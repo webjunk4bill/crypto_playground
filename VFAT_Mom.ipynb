{
 "cells": [
  {
   "cell_type": "code",
   "execution_count": null,
   "id": "bb880338",
   "metadata": {},
   "outputs": [],
   "source": [
    "from core import sickle_nft_calculator as nft_calc\n",
    "from core import sickle_nft_tracker as nft_track\n",
    "import private"
   ]
  },
  {
   "cell_type": "code",
   "execution_count": null,
   "id": "05c24eaa",
   "metadata": {},
   "outputs": [],
   "source": [
    "start_block = 33132290\n",
    "end_block = 99999999\n",
    "tracker = nft_track.SickleNFTtracker(start_block, end_block, private.wal_mom_lp, private.sickle_mom_lp, private.base_path)\n",
    "df = tracker.read_and_process_transactions()"
   ]
  },
  {
   "cell_type": "code",
   "execution_count": null,
   "id": "4f23894e",
   "metadata": {},
   "outputs": [],
   "source": [
    "tracker.write_csv()"
   ]
  },
  {
   "cell_type": "code",
   "execution_count": null,
   "id": "7b8714ef",
   "metadata": {},
   "outputs": [],
   "source": [
    "calcs = nft_calc.SickleNFTcalculator(private.wal_mom_lp, private.base_path)\n",
    "fees = calcs.get_daily_fees(\"new\")\n",
    "#fees = calcs.get_daily_fees(\"all\")"
   ]
  },
  {
   "cell_type": "code",
   "execution_count": null,
   "id": "3493a1c4",
   "metadata": {},
   "outputs": [],
   "source": [
    "calcs.mark_transactions_recorded()"
   ]
  },
  {
   "cell_type": "code",
   "execution_count": null,
   "id": "bb5809c0",
   "metadata": {},
   "outputs": [],
   "source": [
    "calcs.analyze_lp_performance()"
   ]
  }
 ],
 "metadata": {
  "kernelspec": {
   "display_name": "base",
   "language": "python",
   "name": "python3"
  },
  "language_info": {
   "codemirror_mode": {
    "name": "ipython",
    "version": 3
   },
   "file_extension": ".py",
   "mimetype": "text/x-python",
   "name": "python",
   "nbconvert_exporter": "python",
   "pygments_lexer": "ipython3",
   "version": "3.12.9"
  }
 },
 "nbformat": 4,
 "nbformat_minor": 5
}
