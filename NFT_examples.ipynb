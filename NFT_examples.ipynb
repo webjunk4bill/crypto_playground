{
 "cells": [
  {
   "cell_type": "code",
   "execution_count": null,
   "metadata": {},
   "outputs": [],
   "source": [
    "from core import sickle_nft_calculator as nft_calc\n",
    "from core import sickle_nft_tracker as nft_track\n",
    "import private"
   ]
  },
  {
   "cell_type": "code",
   "execution_count": null,
   "metadata": {},
   "outputs": [],
   "source": [
    "start_block = 31880034\n",
    "end_block = 99999999\n",
    "tracker = nft_track.SickleNFTtracker(start_block, end_block, private.wal_lp, private.sickle_lp, private.base_path)\n",
    "df = tracker.read_and_process_transactions()"
   ]
  },
  {
   "cell_type": "code",
   "execution_count": null,
   "metadata": {},
   "outputs": [],
   "source": [
    "tracker.write_csv()"
   ]
  },
  {
   "cell_type": "code",
   "execution_count": null,
   "metadata": {},
   "outputs": [],
   "source": [
    "calcs = nft_calc.SickleNFTcalculator(private.wal_lp, private.base_path)\n",
    "fees = calcs.get_daily_fees(\"new\")\n",
    "#fees = calcs.get_daily_fees(\"all\")"
   ]
  },
  {
   "cell_type": "code",
   "execution_count": null,
   "metadata": {},
   "outputs": [],
   "source": [
    "calcs.mark_transactions_recorded()"
   ]
  },
  {
   "cell_type": "code",
   "execution_count": null,
   "metadata": {},
   "outputs": [],
   "source": [
    "calcs.analyze_lp_performance()"
   ]
  },
  {
   "cell_type": "code",
   "execution_count": null,
   "metadata": {},
   "outputs": [],
   "source": [
    "import core.sickle_nft_calculator as nft_calc\n",
    "#btc = nft_calc.SickleLPTracker(17128818)\n",
    "#eth1 = nft_calc.SickleLPTracker(17128737)\n",
    "eth2 = nft_calc.SickleLPTracker(17292234)"
   ]
  },
  {
   "cell_type": "code",
   "execution_count": null,
   "metadata": {},
   "outputs": [],
   "source": [
    "print(eth2)"
   ]
  },
  {
   "cell_type": "code",
   "execution_count": null,
   "metadata": {},
   "outputs": [],
   "source": [
    "import unimath as um"
   ]
  },
  {
   "cell_type": "code",
   "execution_count": null,
   "metadata": {},
   "outputs": [],
   "source": [
    "gm = ( eth2.price_range[0] * eth2.price_range[1]) ** 0.5\n",
    "gm2 = -(eth2.lower_tick * eth2.upper_tick) ** 0.5\n",
    "gm2_price = um.sqrtp_to_price(um.tick_to_sqrtp(gm2)) * 1E12"
   ]
  },
  {
   "cell_type": "code",
   "execution_count": null,
   "metadata": {},
   "outputs": [],
   "source": []
  },
  {
   "cell_type": "code",
   "execution_count": null,
   "metadata": {},
   "outputs": [],
   "source": [
    "# For BTC LP\n",
    "import unimath as um\n",
    "btc_target = 98500\n",
    "target_tick = um.price_to_tick(1/btc_target*100)\n",
    "print(target_tick)\n",
    "btc.current_tick = target_tick\n",
    "btc.calc_balances()\n",
    "print(btc.value)\n",
    "print(f\"PCT price drop = {1-(btc_target/104820)}\")\n",
    "print(f\"LP PCT drop = {1 - (btc.value / 39716)}\")"
   ]
  },
  {
   "cell_type": "code",
   "execution_count": null,
   "metadata": {},
   "outputs": [],
   "source": []
  },
  {
   "cell_type": "code",
   "execution_count": null,
   "metadata": {},
   "outputs": [],
   "source": [
    "import unimath as um\n",
    "eth.current_tick = -67362\n",
    "eth.balances = eth.calc_balances()\n",
    "usd_now = eth.balances['token0_balance']\n",
    "btc_now = eth.balances['token1_balance']\n",
    "exit_now = usd_now / eth.balances['token1_price'] + btc_now\n",
    "print(f\"exit now and buy: {exit_now}\")\n",
    "eth.current_tick = -65500\n",
    "eth.balances = eth.calc_balances()\n",
    "buy_low = usd_now / eth.balances['token1_price'] + btc_now\n",
    "print(f\"buy low: {buy_low}\")\n",
    "print(eth)"
   ]
  },
  {
   "cell_type": "code",
   "execution_count": null,
   "metadata": {},
   "outputs": [],
   "source": [
    "eth.current_tick = -69700\n",
    "eth.balances = eth.calc_balances() \n",
    "print(eth)\n",
    "exit_now = eth.balances['token0_balance'] / eth.balances['token1_price'] + eth.balances['token1_balance']\n",
    "print(exit_now)"
   ]
  }
 ],
 "metadata": {
  "kernelspec": {
   "display_name": "base",
   "language": "python",
   "name": "python3"
  },
  "language_info": {
   "codemirror_mode": {
    "name": "ipython",
    "version": 3
   },
   "file_extension": ".py",
   "mimetype": "text/x-python",
   "name": "python",
   "nbconvert_exporter": "python",
   "pygments_lexer": "ipython3",
   "version": "3.12.9"
  }
 },
 "nbformat": 4,
 "nbformat_minor": 2
}
