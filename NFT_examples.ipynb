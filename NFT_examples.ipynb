{
 "cells": [
  {
   "cell_type": "code",
   "execution_count": 1,
   "metadata": {},
   "outputs": [],
   "source": [
    "from core import sickle_nft_calculator as nft_calc\n",
    "from core import sickle_nft_tracker as nft_track\n",
    "import private"
   ]
  },
  {
   "cell_type": "code",
   "execution_count": 2,
   "metadata": {},
   "outputs": [
    {
     "name": "stdout",
     "output_type": "stream",
     "text": [
      "Last block seen for seriesID WETH/USDC_6fc2 is 26320471\n",
      "Last block seen for seriesID USDC/cbBTC_5610 is 26255471\n",
      "Data exisits, setting start block to 26255470 in order to continue tracing NFT transfers\n",
      "Harvest occured at tx 0x6b8b...00f4\n",
      "Harvest occured at tx 0x9182...20a1\n",
      "Getting historical in_data for aerodrome-finance\n",
      "Getting historical in_data for bitcoin\n",
      "Getting historical in_data for ethereum\n",
      "Merging Dataframes\n",
      "Historical Block range: 25707219 to 26378974\n",
      "Current Block range: 26255471 to 26378974\n",
      "Merged Block range: 25707219 to 26378974\n"
     ]
    }
   ],
   "source": [
    "# start_block = 25707200\n",
    "start_block = 26255460\n",
    "tracker = nft_track.SickleNFTtracker(start_block, 99999999, private.wal_lp, private.sickle_lp)\n",
    "df = tracker.read_and_process_transactions()"
   ]
  },
  {
   "cell_type": "code",
   "execution_count": 3,
   "metadata": {},
   "outputs": [],
   "source": [
    "tracker.write_csv()"
   ]
  },
  {
   "cell_type": "code",
   "execution_count": 2,
   "metadata": {},
   "outputs": [
    {
     "name": "stdout",
     "output_type": "stream",
     "text": [
      "Total Fees collected to date: $42418.88\n",
      "         date tokenSymbol       amount     valueUsd\n",
      "0  2025-01-30        AERO     1.504293     1.647191\n",
      "1  2025-01-30        USDC  1026.200042  1026.189070\n",
      "2  2025-01-31        AERO     4.551020     5.062406\n",
      "3  2025-01-31        USDC  3421.434646  3421.493767\n",
      "4  2025-02-01        AERO     1.723323     1.813579\n",
      "5  2025-02-01        USDC  1785.344788  1785.451966\n",
      "6  2025-02-02        AERO  2676.791241  2287.518757\n",
      "7  2025-02-02        USDC  1928.616662  1928.948290\n",
      "8  2025-02-03        AERO  9356.527504  8388.940679\n",
      "9  2025-02-04        AERO  5144.518737  4836.193820\n",
      "10 2025-02-05        AERO  1479.333847  1384.589193\n",
      "11 2025-02-06        AERO  2610.085642  2319.013389\n",
      "12 2025-02-07        AERO  1840.623048  1544.640189\n",
      "13 2025-02-08        AERO  4308.115495  3569.502300\n",
      "14 2025-02-09        AERO  2037.868217  1598.746146\n",
      "15 2025-02-10        AERO   567.196144   452.064594\n",
      "16 2025-02-11        AERO  3353.029748  2742.315448\n",
      "17 2025-02-12        AERO  1231.495548  1031.722615\n",
      "18 2025-02-13        AERO   229.343329   186.571745\n",
      "19 2025-02-14        AERO  4686.291749  3906.456701\n"
     ]
    }
   ],
   "source": [
    "calcs = nft_calc.SickleNFTcalculator(private.wal_lp)\n",
    "fees = calcs.get_daily_fees()"
   ]
  },
  {
   "cell_type": "code",
   "execution_count": 3,
   "metadata": {},
   "outputs": [
    {
     "name": "stdout",
     "output_type": "stream",
     "text": [
      "Reading NFT position for NFT ID 7139210\n",
      "Reading token information for token address 0x833589fCD6eDb6E08f4c7C32D4f71b54bdA02913\n",
      "Reading token information for token address 0xcbB7C0000aB88B473b1f5aFd9ef808440eed33Bf\n",
      "Reading pool information for token addresses 0x833589fCD6eDb6E08f4c7C32D4f71b54bdA02913 and 0xcbB7C0000aB88B473b1f5aFd9ef808440eed33Bf\n",
      "Reading current tick value for pool address 0x4e962BB3889Bf030368F56810A9c96B83CB3E778\n",
      "Reading NFT position for NFT ID 7233972\n",
      "Reading token information for token address 0x4200000000000000000000000000000000000006\n",
      "Reading token information for token address 0x833589fCD6eDb6E08f4c7C32D4f71b54bdA02913\n",
      "Reading pool information for token addresses 0x4200000000000000000000000000000000000006 and 0x833589fCD6eDb6E08f4c7C32D4f71b54bdA02913\n",
      "Reading current tick value for pool address 0xb2cc224c1c9feE385f8ad6a55b4d94E92359DC59\n",
      "                          USDC/cbBTC_5610 WETH/USDC_6fc2\n",
      "$net_funding                201062.651413   118743.83664\n",
      "$total_fees                   19677.93129   22740.950556\n",
      "hold_tokens                      1.921801      37.638262\n",
      "%average_fee_apr               238.149481     466.014191\n",
      "$start_price                104621.977451    3154.870366\n",
      "$end_price                   95551.770832    2689.850267\n",
      "%token_gain                     -8.669504     -14.739753\n",
      "token0_name                          USDC           WETH\n",
      "token0_balance              127927.518816      16.469114\n",
      "token0_price                            1     2678.48871\n",
      "token1_name                         cbBTC           USDC\n",
      "token1_balance                    0.53065   35133.639628\n",
      "token1_price                 97501.795181              1\n",
      "LP Value                    179666.878604   79245.974243\n",
      "Gain over full token hold    11965.733967    1173.265641\n",
      "Gain over hold USD           -1717.841518  -16756.911841\n"
     ]
    }
   ],
   "source": [
    "calcs.analyze_lp_performance()"
   ]
  }
 ],
 "metadata": {
  "kernelspec": {
   "display_name": ".venv",
   "language": "python",
   "name": "python3"
  },
  "language_info": {
   "codemirror_mode": {
    "name": "ipython",
    "version": 3
   },
   "file_extension": ".py",
   "mimetype": "text/x-python",
   "name": "python",
   "nbconvert_exporter": "python",
   "pygments_lexer": "ipython3",
   "version": "3.12.5"
  }
 },
 "nbformat": 4,
 "nbformat_minor": 2
}
