{
 "cells": [
  {
   "cell_type": "code",
   "execution_count": 1,
   "metadata": {},
   "outputs": [],
   "source": [
    "from core import sickle_nft_calculator as nft_calc\n",
    "from core import sickle_nft_tracker as nft_track\n",
    "import private"
   ]
  },
  {
   "cell_type": "code",
   "execution_count": 3,
   "metadata": {},
   "outputs": [
    {
     "name": "stdout",
     "output_type": "stream",
     "text": [
      "WETH/USDC_6fc2 was closed, continuing...\n",
      "USDC/cbBTC_5610 was closed, continuing...\n",
      "USDC/cbBTC_65ea was closed, continuing...\n",
      "USDC/cbBTC_c752 was closed, continuing...\n",
      "Last block seen for seriesID USDC/USDC_be33 is 31824219\n",
      "Last block seen for seriesID USDC/USDC_424d is 31824210\n",
      "Data exisits, setting start block to 31824209 in order to continue tracing NFT transfers\n",
      "Unknown occured at tx 0x91c2...abda\n",
      "Unknown occured at tx 0x86bd...9c5c\n",
      "Deposit occured at tx 0x1c50...e558\n",
      "Harvest occured at tx 0xfd3c...503f\n",
      "Harvest occured at tx 0xcada...df14\n",
      "Getting historical in_data for aerodrome-finance\n",
      "Getting historical in_data for bitcoin\n",
      "Getting historical in_data for ethereum\n",
      "Getting historical in_data for usd-coin\n",
      "Merging Dataframes\n",
      "Historical Block range: 25707219 to 31824219\n",
      "Current Block range: 31824210 to 31880497\n",
      "Merged Block range: 25707219 to 31880497\n"
     ]
    }
   ],
   "source": [
    "start_block = 31750000\n",
    "end_block = 99999999\n",
    "tracker = nft_track.SickleNFTtracker(start_block, end_block, private.wal_lp, private.sickle_lp)\n",
    "df = tracker.read_and_process_transactions()"
   ]
  },
  {
   "cell_type": "code",
   "execution_count": 4,
   "metadata": {},
   "outputs": [],
   "source": [
    "tracker.write_csv()"
   ]
  },
  {
   "cell_type": "code",
   "execution_count": null,
   "metadata": {},
   "outputs": [],
   "source": []
  },
  {
   "cell_type": "code",
   "execution_count": 10,
   "metadata": {},
   "outputs": [
    {
     "name": "stdout",
     "output_type": "stream",
     "text": [
      "Total Fees collected since last update: $631.82\n",
      "                 amount  valueUsd\n",
      "tokenSymbol                      \n",
      "AERO         780.739712    631.82\n",
      "        date tokenSymbol      amount  valueUsd\n",
      "0 2025-06-19        AERO  109.092195    100.81\n",
      "1 2025-06-20        AERO  249.353864    213.45\n",
      "2 2025-06-21        AERO  422.293653    317.56\n"
     ]
    }
   ],
   "source": [
    "calcs = nft_calc.SickleNFTcalculator(private.wal_lp)\n",
    "fees = calcs.get_daily_fees(\"new\")\n",
    "#fees = calcs.get_daily_fees(\"all\")"
   ]
  },
  {
   "cell_type": "code",
   "execution_count": 12,
   "metadata": {},
   "outputs": [],
   "source": [
    "calcs.mark_transactions_recorded()"
   ]
  },
  {
   "cell_type": "code",
   "execution_count": 11,
   "metadata": {},
   "outputs": [
    {
     "name": "stdout",
     "output_type": "stream",
     "text": [
      "Reading NFT position for NFT ID 17128818 (Attempt 1)\n",
      "Attempt 1 failed: 500 Server Error: Internal Server Error for url: https://base-mainnet.rpc.grove.city/v1/6aa70f2472bf4067c24fa5f2\n",
      "NFT ID 17128818 may not exist anymore.\n",
      "Reading NFT position for NFT ID 17128818 (Attempt 2)\n",
      "Reading token information for token address 0x833589fCD6eDb6E08f4c7C32D4f71b54bdA02913\n",
      "Reading token information for token address 0xcbB7C0000aB88B473b1f5aFd9ef808440eed33Bf\n",
      "Reading pool information for token addresses 0x833589fCD6eDb6E08f4c7C32D4f71b54bdA02913 and 0xcbB7C0000aB88B473b1f5aFd9ef808440eed33Bf\n",
      "Reading current tick value for pool address 0x4e962BB3889Bf030368F56810A9c96B83CB3E778\n",
      "Reading NFT position for NFT ID 17128737 (Attempt 1)\n",
      "Attempt 1 failed: 500 Server Error: Internal Server Error for url: https://base-mainnet.rpc.grove.city/v1/6aa70f2472bf4067c24fa5f2\n",
      "NFT ID 17128737 may not exist anymore.\n",
      "Reading NFT position for NFT ID 17128737 (Attempt 2)\n",
      "Reading token information for token address 0x4200000000000000000000000000000000000006\n",
      "Reading token information for token address 0x833589fCD6eDb6E08f4c7C32D4f71b54bdA02913\n",
      "Reading pool information for token addresses 0x4200000000000000000000000000000000000006 and 0x833589fCD6eDb6E08f4c7C32D4f71b54bdA02913\n",
      "Reading current tick value for pool address 0xb2cc224c1c9feE385f8ad6a55b4d94E92359DC59\n"
     ]
    },
    {
     "name": "stderr",
     "output_type": "stream",
     "text": [
      "/Users/bnoellert/Documents/Code_Personal/crypto_playground/core/sickle_nft_calculator.py:212: RuntimeWarning: invalid value encountered in scalar divide\n",
      "  apr = total_fees / net_funding * 365 * 100 / (df.index.max() - df.index.min()).days\n"
     ]
    },
    {
     "name": "stdout",
     "output_type": "stream",
     "text": [
      "Reading NFT position for NFT ID 17129688 (Attempt 1)\n",
      "Attempt 1 failed: 500 Server Error: Internal Server Error for url: https://base-mainnet.rpc.grove.city/v1/6aa70f2472bf4067c24fa5f2\n",
      "NFT ID 17129688 may not exist anymore.\n",
      "Reading NFT position for NFT ID 17129688 (Attempt 2)\n",
      "Reading token information for token address 0x4200000000000000000000000000000000000006\n",
      "Reading token information for token address 0x833589fCD6eDb6E08f4c7C32D4f71b54bdA02913\n",
      "Reading pool information for token addresses 0x4200000000000000000000000000000000000006 and 0x833589fCD6eDb6E08f4c7C32D4f71b54bdA02913\n",
      "Reading current tick value for pool address 0xb2cc224c1c9feE385f8ad6a55b4d94E92359DC59\n",
      "                          USDC/USDC_424d USDC/USDC_be33 USDC/WETH_e558  \\\n",
      "$net_funding                    39716.13       34940.15        9792.62   \n",
      "$total_fees                       187.65         444.17            0.0   \n",
      "hold_tokens                     0.378897       13.84767       4.279391   \n",
      "%average_fee_apr                    57.5          154.7            NaN   \n",
      "$start_price                    104820.3        2523.18        2288.32   \n",
      "$end_price                     101824.54        2288.32        2288.32   \n",
      "%token_gain                        -2.86          -9.31            0.0   \n",
      "Gain over full token hold         243.66         784.87         -75.24   \n",
      "Gain over hold USD                -778.7       -2557.79        -109.04   \n",
      "token0_name                         USDC           WETH           WETH   \n",
      "token0_balance              11334.231159      10.530265       2.390587   \n",
      "token0_price                           1     2281.79117    2280.422575   \n",
      "token1_name                        cbBTC           USDC           USDC   \n",
      "token1_balance                  0.268459    7910.325639    4232.034197   \n",
      "token1_price               102122.030444              1              1   \n",
      "LP Value                     38749.77563   31938.190245    9683.583095   \n",
      "Final Balance for USDC               NaN            NaN            NaN   \n",
      "Final Balance for cbBTC              NaN            NaN            NaN   \n",
      "Balances                             NaN            NaN            NaN   \n",
      "Final Balance for WETH               NaN            NaN            NaN   \n",
      "\n",
      "                          USDC/cbBTC_5610 USDC/cbBTC_65ea USDC/cbBTC_c752  \\\n",
      "$net_funding                     195977.9        68432.49       138198.52   \n",
      "$total_fees                      26522.91          552.59         1459.67   \n",
      "hold_tokens                        1.8732        0.820637        1.686503   \n",
      "%average_fee_apr                    145.3           294.7            35.0   \n",
      "$start_price                    104621.98        83389.47        81943.81   \n",
      "$end_price                       89693.88        79366.49        88039.64   \n",
      "%token_gain                        -14.27           -4.82            7.44   \n",
      "Gain over full token hold        10887.89         1211.55         -5043.1   \n",
      "Gain over hold USD              -17075.42        -2089.86         5237.54   \n",
      "token0_name                           NaN             NaN             NaN   \n",
      "token0_balance                        NaN             NaN             NaN   \n",
      "token0_price                          NaN             NaN             NaN   \n",
      "token1_name                           NaN             NaN             NaN   \n",
      "token1_balance                        NaN             NaN             NaN   \n",
      "token1_price                          NaN             NaN             NaN   \n",
      "LP Value                              NaN             NaN             NaN   \n",
      "Final Balance for USDC      -53987.024384   -23281.984756    36413.216078   \n",
      "Final Balance for cbBTC          0.260445        0.287176        -0.42869   \n",
      "Balances                     LP is Closed    LP is Closed    LP is Closed   \n",
      "Final Balance for WETH                NaN             NaN             NaN   \n",
      "\n",
      "                          WETH/USDC_6fc2  \n",
      "$net_funding                   118101.79  \n",
      "$total_fees                     27638.97  \n",
      "hold_tokens                    37.434752  \n",
      "%average_fee_apr                   251.2  \n",
      "$start_price                     3154.87  \n",
      "$end_price                       2197.97  \n",
      "%token_gain                       -30.33  \n",
      "Gain over full token hold        4792.54  \n",
      "Gain over hold USD             -31028.71  \n",
      "token0_name                          NaN  \n",
      "token0_balance                       NaN  \n",
      "token0_price                         NaN  \n",
      "token1_name                          NaN  \n",
      "token1_balance                       NaN  \n",
      "token1_price                         NaN  \n",
      "LP Value                             NaN  \n",
      "Final Balance for USDC     -41816.789071  \n",
      "Final Balance for cbBTC              NaN  \n",
      "Balances                    LP is Closed  \n",
      "Final Balance for WETH          0.801291  \n"
     ]
    }
   ],
   "source": [
    "calcs.analyze_lp_performance()"
   ]
  },
  {
   "cell_type": "code",
   "execution_count": null,
   "metadata": {},
   "outputs": [],
   "source": [
    "import core.sickle_nft_calculator as nft_calc\n",
    "eth = nft_calc.SickleLPTracker(8919207)\n",
    "print(eth)"
   ]
  },
  {
   "cell_type": "code",
   "execution_count": null,
   "metadata": {},
   "outputs": [],
   "source": [
    "import unimath as um\n",
    "eth.current_tick = -67362\n",
    "eth.balances = eth.calc_balances()\n",
    "usd_now = eth.balances['token0_balance']\n",
    "btc_now = eth.balances['token1_balance']\n",
    "exit_now = usd_now / eth.balances['token1_price'] + btc_now\n",
    "print(f\"exit now and buy: {exit_now}\")\n",
    "eth.current_tick = -65500\n",
    "eth.balances = eth.calc_balances()\n",
    "buy_low = usd_now / eth.balances['token1_price'] + btc_now\n",
    "print(f\"buy low: {buy_low}\")\n",
    "print(eth)"
   ]
  },
  {
   "cell_type": "code",
   "execution_count": null,
   "metadata": {},
   "outputs": [],
   "source": [
    "eth.current_tick = -69700\n",
    "eth.balances = eth.calc_balances() \n",
    "print(eth)\n",
    "exit_now = eth.balances['token0_balance'] / eth.balances['token1_price'] + eth.balances['token1_balance']\n",
    "print(exit_now)"
   ]
  }
 ],
 "metadata": {
  "kernelspec": {
   "display_name": "base",
   "language": "python",
   "name": "python3"
  },
  "language_info": {
   "codemirror_mode": {
    "name": "ipython",
    "version": 3
   },
   "file_extension": ".py",
   "mimetype": "text/x-python",
   "name": "python",
   "nbconvert_exporter": "python",
   "pygments_lexer": "ipython3",
   "version": "3.12.9"
  }
 },
 "nbformat": 4,
 "nbformat_minor": 2
}
