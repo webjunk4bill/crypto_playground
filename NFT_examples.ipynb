{
 "cells": [
  {
   "cell_type": "code",
   "execution_count": 2,
   "metadata": {},
   "outputs": [],
   "source": [
    "from core import sickle_nft_calculator as nft_calc\n",
    "from core import sickle_nft_tracker as nft_track\n",
    "import private"
   ]
  },
  {
   "cell_type": "code",
   "execution_count": 3,
   "metadata": {},
   "outputs": [
    {
     "name": "stdout",
     "output_type": "stream",
     "text": [
      "WETH/USDC_6fc2 was closed, continuing...\n",
      "USDC/cbBTC_5610 was closed, continuing...\n",
      "USDC/cbBTC_65ea was closed, continuing...\n",
      "USDC/cbBTC_c752 was closed, continuing...\n",
      "Last block seen for seriesID USDC/WETH_be33 is 31750304\n",
      "Last block seen for seriesID USDC/cbBTC_424d is 31750412\n",
      "Data exisits, setting start block to 31750303 in order to continue tracing NFT transfers\n",
      "Unknown occured at tx 0xea77...be33\n",
      "Unknown occured at tx 0x7e43...424d\n",
      "Harvest occured at tx 0xebc0...41d0\n",
      "Harvest occured at tx 0x2e8d...47b2\n",
      "Getting historical in_data for usd-coin\n",
      "Getting historical in_data for bitcoin\n",
      "Getting historical in_data for aerodrome-finance\n",
      "Getting historical in_data for ethereum\n",
      "Merging Dataframes\n",
      "Historical Block range: 25707219 to 31750412\n",
      "Current Block range: 31750304 to 31775890\n",
      "Merged Block range: 25707219 to 31775890\n"
     ]
    }
   ],
   "source": [
    "start_block = 31750413\n",
    "end_block = 99999999\n",
    "tracker = nft_track.SickleNFTtracker(start_block, end_block, private.wal_lp, private.sickle_lp)\n",
    "df = tracker.read_and_process_transactions()"
   ]
  },
  {
   "cell_type": "code",
   "execution_count": 4,
   "metadata": {},
   "outputs": [],
   "source": [
    "tracker.write_csv()"
   ]
  },
  {
   "cell_type": "code",
   "execution_count": null,
   "metadata": {},
   "outputs": [],
   "source": []
  },
  {
   "cell_type": "code",
   "execution_count": 5,
   "metadata": {},
   "outputs": [
    {
     "name": "stdout",
     "output_type": "stream",
     "text": [
      "Total Fees collected since last update: $102.33\n",
      "                 amount  valueUsd\n",
      "tokenSymbol                      \n",
      "AERO         109.092195    102.33\n",
      "        date tokenSymbol      amount  valueUsd\n",
      "0 2025-06-19        AERO  109.092195    102.33\n"
     ]
    }
   ],
   "source": [
    "calcs = nft_calc.SickleNFTcalculator(private.wal_lp)\n",
    "fees = calcs.get_daily_fees(\"new\")\n",
    "#fees = calcs.get_daily_fees(\"all\")"
   ]
  },
  {
   "cell_type": "code",
   "execution_count": null,
   "metadata": {},
   "outputs": [],
   "source": [
    "calcs.mark_transactions_recorded()"
   ]
  },
  {
   "cell_type": "code",
   "execution_count": null,
   "metadata": {},
   "outputs": [],
   "source": [
    "calcs.analyze_lp_performance()"
   ]
  },
  {
   "cell_type": "code",
   "execution_count": null,
   "metadata": {},
   "outputs": [],
   "source": [
    "import core.sickle_nft_calculator as nft_calc\n",
    "eth = nft_calc.SickleLPTracker(8919207)\n",
    "print(eth)"
   ]
  },
  {
   "cell_type": "code",
   "execution_count": null,
   "metadata": {},
   "outputs": [],
   "source": [
    "import unimath as um\n",
    "eth.current_tick = -67362\n",
    "eth.balances = eth.calc_balances()\n",
    "usd_now = eth.balances['token0_balance']\n",
    "btc_now = eth.balances['token1_balance']\n",
    "exit_now = usd_now / eth.balances['token1_price'] + btc_now\n",
    "print(f\"exit now and buy: {exit_now}\")\n",
    "eth.current_tick = -65500\n",
    "eth.balances = eth.calc_balances()\n",
    "buy_low = usd_now / eth.balances['token1_price'] + btc_now\n",
    "print(f\"buy low: {buy_low}\")\n",
    "print(eth)"
   ]
  },
  {
   "cell_type": "code",
   "execution_count": null,
   "metadata": {},
   "outputs": [],
   "source": [
    "eth.current_tick = -69700\n",
    "eth.balances = eth.calc_balances() \n",
    "print(eth)\n",
    "exit_now = eth.balances['token0_balance'] / eth.balances['token1_price'] + eth.balances['token1_balance']\n",
    "print(exit_now)"
   ]
  }
 ],
 "metadata": {
  "kernelspec": {
   "display_name": "base",
   "language": "python",
   "name": "python3"
  },
  "language_info": {
   "codemirror_mode": {
    "name": "ipython",
    "version": 3
   },
   "file_extension": ".py",
   "mimetype": "text/x-python",
   "name": "python",
   "nbconvert_exporter": "python",
   "pygments_lexer": "ipython3",
   "version": "3.12.9"
  }
 },
 "nbformat": 4,
 "nbformat_minor": 2
}
