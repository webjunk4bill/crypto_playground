{
 "cells": [
  {
   "cell_type": "code",
   "execution_count": null,
   "metadata": {},
   "outputs": [],
   "source": [
    "from core import sickle_nft_calculator as nft_calc\n",
    "from core import sickle_nft_tracker as nft_track\n",
    "import private"
   ]
  },
  {
   "cell_type": "code",
   "execution_count": null,
   "metadata": {},
   "outputs": [],
   "source": [
    "# start_block = 25707200\n",
    "# start_block = 26378974\n",
    "start_block = 26950043\n",
    "end_block = 99999999\n",
    "tracker = nft_track.SickleNFTtracker(start_block, end_block, private.wal_lp, private.sickle_lp)\n",
    "df = tracker.read_and_process_transactions()"
   ]
  },
  {
   "cell_type": "code",
   "execution_count": null,
   "metadata": {},
   "outputs": [],
   "source": [
    "tracker.write_csv()"
   ]
  },
  {
   "cell_type": "code",
   "execution_count": null,
   "metadata": {},
   "outputs": [],
   "source": [
    "calcs = nft_calc.SickleNFTcalculator(private.wal_lp)\n",
    "fees = calcs.get_daily_fees(\"new\")\n",
    "# fees = calcs.get_daily_fees(\"all\")"
   ]
  },
  {
   "cell_type": "code",
   "execution_count": null,
   "metadata": {},
   "outputs": [],
   "source": [
    "calcs.mark_transactions_recorded()"
   ]
  },
  {
   "cell_type": "code",
   "execution_count": null,
   "metadata": {},
   "outputs": [],
   "source": [
    "calcs.analyze_lp_performance()"
   ]
  },
  {
   "cell_type": "code",
   "execution_count": null,
   "metadata": {},
   "outputs": [],
   "source": [
    "import core.sickle_nft_calculator as nft_calc\n",
    "eth = nft_calc.SickleLPTracker()\n",
    "print(eth)"
   ]
  },
  {
   "cell_type": "code",
   "execution_count": null,
   "metadata": {},
   "outputs": [],
   "source": [
    "eth.current_tick = -194100\n",
    "eth.balances = eth.calc_balances()\n",
    "print(eth)"
   ]
  },
  {
   "cell_type": "code",
   "execution_count": null,
   "metadata": {},
   "outputs": [],
   "source": [
    "print(27.91324877857048 * 3611.913806422846 - 78913.43278)"
   ]
  }
 ],
 "metadata": {
  "kernelspec": {
   "display_name": ".venv",
   "language": "python",
   "name": "python3"
  },
  "language_info": {
   "codemirror_mode": {
    "name": "ipython",
    "version": 3
   },
   "file_extension": ".py",
   "mimetype": "text/x-python",
   "name": "python",
   "nbconvert_exporter": "python",
   "pygments_lexer": "ipython3",
   "version": "3.12.5"
  }
 },
 "nbformat": 4,
 "nbformat_minor": 2
}
