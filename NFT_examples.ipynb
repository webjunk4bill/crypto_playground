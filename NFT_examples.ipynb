{
 "cells": [
  {
   "cell_type": "code",
   "execution_count": 1,
   "metadata": {},
   "outputs": [],
   "source": [
    "from core import sickle_nft_calculator as nft_calc\n",
    "from core import sickle_nft_tracker as nft_track\n",
    "import private"
   ]
  },
  {
   "cell_type": "code",
   "execution_count": 2,
   "metadata": {},
   "outputs": [
    {
     "name": "stdout",
     "output_type": "stream",
     "text": [
      "WETH/USDC_6fc2 was closed, continuing...\n",
      "USDC/cbBTC_5610 was closed, continuing...\n",
      "USDC/cbBTC_65ea was closed, continuing...\n",
      "USDC/cbBTC_c752 was closed, continuing...\n",
      "No need to pull historical data\n",
      "Deposit occured at tx 0xea77...be33\n",
      "Deposit occured at tx 0x7e43...424d\n",
      "Harvest occured at tx 0xebc0...41d0\n",
      "Harvest occured at tx 0x2e8d...47b2\n",
      "Harvest occured at tx 0xfd3c...503f\n",
      "Harvest occured at tx 0xcada...df14\n",
      "Getting historical in_data for usd-coin\n",
      "Getting historical in_data for bitcoin\n",
      "Getting historical in_data for aerodrome-finance\n",
      "Getting historical in_data for ethereum\n",
      "Merging Dataframes\n",
      "Historical Block range: 25707219 to 28019247\n",
      "Current Block range: 31750304 to 31824219\n",
      "Merged Block range: 25707219 to 31824219\n"
     ]
    }
   ],
   "source": [
    "start_block = 31750000\n",
    "end_block = 99999999\n",
    "tracker = nft_track.SickleNFTtracker(start_block, end_block, private.wal_lp, private.sickle_lp)\n",
    "df = tracker.read_and_process_transactions()"
   ]
  },
  {
   "cell_type": "code",
   "execution_count": 3,
   "metadata": {},
   "outputs": [],
   "source": [
    "tracker.write_csv()"
   ]
  },
  {
   "cell_type": "code",
   "execution_count": null,
   "metadata": {},
   "outputs": [],
   "source": []
  },
  {
   "cell_type": "code",
   "execution_count": 4,
   "metadata": {},
   "outputs": [
    {
     "name": "stdout",
     "output_type": "stream",
     "text": [
      "Total Fees collected since last update: $316.01\n",
      "                 amount  valueUsd\n",
      "tokenSymbol                      \n",
      "AERO         358.446059    316.01\n",
      "        date tokenSymbol      amount  valueUsd\n",
      "0 2025-06-19        AERO  109.092195    100.81\n",
      "1 2025-06-20        AERO  249.353864    215.20\n"
     ]
    }
   ],
   "source": [
    "calcs = nft_calc.SickleNFTcalculator(private.wal_lp)\n",
    "fees = calcs.get_daily_fees(\"new\")\n",
    "#fees = calcs.get_daily_fees(\"all\")"
   ]
  },
  {
   "cell_type": "code",
   "execution_count": null,
   "metadata": {},
   "outputs": [],
   "source": [
    "calcs.mark_transactions_recorded()"
   ]
  },
  {
   "cell_type": "code",
   "execution_count": 5,
   "metadata": {},
   "outputs": [
    {
     "name": "stdout",
     "output_type": "stream",
     "text": [
      "Reading NFT position for NFT ID 16867297 (Attempt 1)\n",
      "Attempt 1 failed: 400 Client Error: Bad Request for url: https://base-mainnet.rpc.grove.city/v1/6aa70f2472bf4067c24fa5f2\n",
      "NFT ID 16867297 may not exist anymore.\n",
      "Reading NFT position for NFT ID 16867297 (Attempt 2)\n",
      "Reading token information for token address 0x833589fCD6eDb6E08f4c7C32D4f71b54bdA02913\n",
      "Reading token information for token address 0xcbB7C0000aB88B473b1f5aFd9ef808440eed33Bf\n",
      "Reading pool information for token addresses 0x833589fCD6eDb6E08f4c7C32D4f71b54bdA02913 and 0xcbB7C0000aB88B473b1f5aFd9ef808440eed33Bf\n",
      "Reading current tick value for pool address 0x4e962BB3889Bf030368F56810A9c96B83CB3E778\n",
      "Reading NFT position for NFT ID 16867090 (Attempt 1)\n",
      "Attempt 1 failed: 400 Client Error: Bad Request for url: https://base-mainnet.rpc.grove.city/v1/6aa70f2472bf4067c24fa5f2\n",
      "NFT ID 16867090 may not exist anymore.\n",
      "Reading NFT position for NFT ID 16867090 (Attempt 2)\n",
      "Reading token information for token address 0x4200000000000000000000000000000000000006\n",
      "Reading token information for token address 0x833589fCD6eDb6E08f4c7C32D4f71b54bdA02913\n",
      "Reading pool information for token addresses 0x4200000000000000000000000000000000000006 and 0x833589fCD6eDb6E08f4c7C32D4f71b54bdA02913\n",
      "Reading current tick value for pool address 0xb2cc224c1c9feE385f8ad6a55b4d94E92359DC59\n",
      "                          USDC/USDC_424d USDC/USDC_be33 USDC/cbBTC_5610  \\\n",
      "$net_funding                     39837.9       34996.77        195977.9   \n",
      "$total_fees                       106.11          209.9        26522.91   \n",
      "hold_tokens                     0.380059       13.87011          1.8732   \n",
      "%average_fee_apr                    97.2          218.9           145.3   \n",
      "$start_price                    104820.3        2523.18       104621.98   \n",
      "$end_price                      104820.3        2523.18        89693.88   \n",
      "%token_gain                          0.0            0.0          -14.27   \n",
      "Gain over full token hold         215.41         681.09        10887.89   \n",
      "Gain over hold USD               -290.47        -770.48       -17075.42   \n",
      "token0_name                         USDC           WETH             NaN   \n",
      "token0_balance               7051.756963       11.81128             NaN   \n",
      "token0_price                           1    2418.524941             NaN   \n",
      "token1_name                        cbBTC           USDC             NaN   \n",
      "token1_balance                  0.312975    5450.519109             NaN   \n",
      "token1_price               103489.256993              1             NaN   \n",
      "LP Value                    39441.324763   34016.394075             NaN   \n",
      "Final Balance for USDC               NaN            NaN   -53987.024384   \n",
      "Final Balance for cbBTC              NaN            NaN        0.260445   \n",
      "Balances                             NaN            NaN    LP is Closed   \n",
      "Final Balance for WETH               NaN            NaN             NaN   \n",
      "\n",
      "                          USDC/cbBTC_65ea USDC/cbBTC_c752 WETH/USDC_6fc2  \n",
      "$net_funding                     68432.49       138198.52      118101.79  \n",
      "$total_fees                        552.59         1459.67       27638.97  \n",
      "hold_tokens                      0.820637        1.686503      37.434752  \n",
      "%average_fee_apr                    294.7            35.0          251.2  \n",
      "$start_price                     83389.47        81943.81        3154.87  \n",
      "$end_price                       79366.49        88039.64        2197.97  \n",
      "%token_gain                         -4.82            7.44         -30.33  \n",
      "Gain over full token hold         1211.55         -5043.1        4792.54  \n",
      "Gain over hold USD               -2089.86         5237.54      -31028.71  \n",
      "token0_name                           NaN             NaN            NaN  \n",
      "token0_balance                        NaN             NaN            NaN  \n",
      "token0_price                          NaN             NaN            NaN  \n",
      "token1_name                           NaN             NaN            NaN  \n",
      "token1_balance                        NaN             NaN            NaN  \n",
      "token1_price                          NaN             NaN            NaN  \n",
      "LP Value                              NaN             NaN            NaN  \n",
      "Final Balance for USDC      -23281.984756    36413.216078  -41816.789071  \n",
      "Final Balance for cbBTC          0.287176        -0.42869            NaN  \n",
      "Balances                     LP is Closed    LP is Closed   LP is Closed  \n",
      "Final Balance for WETH                NaN             NaN       0.801291  \n"
     ]
    }
   ],
   "source": [
    "calcs.analyze_lp_performance()"
   ]
  },
  {
   "cell_type": "code",
   "execution_count": null,
   "metadata": {},
   "outputs": [],
   "source": [
    "import core.sickle_nft_calculator as nft_calc\n",
    "eth = nft_calc.SickleLPTracker(8919207)\n",
    "print(eth)"
   ]
  },
  {
   "cell_type": "code",
   "execution_count": null,
   "metadata": {},
   "outputs": [],
   "source": [
    "import unimath as um\n",
    "eth.current_tick = -67362\n",
    "eth.balances = eth.calc_balances()\n",
    "usd_now = eth.balances['token0_balance']\n",
    "btc_now = eth.balances['token1_balance']\n",
    "exit_now = usd_now / eth.balances['token1_price'] + btc_now\n",
    "print(f\"exit now and buy: {exit_now}\")\n",
    "eth.current_tick = -65500\n",
    "eth.balances = eth.calc_balances()\n",
    "buy_low = usd_now / eth.balances['token1_price'] + btc_now\n",
    "print(f\"buy low: {buy_low}\")\n",
    "print(eth)"
   ]
  },
  {
   "cell_type": "code",
   "execution_count": null,
   "metadata": {},
   "outputs": [],
   "source": [
    "eth.current_tick = -69700\n",
    "eth.balances = eth.calc_balances() \n",
    "print(eth)\n",
    "exit_now = eth.balances['token0_balance'] / eth.balances['token1_price'] + eth.balances['token1_balance']\n",
    "print(exit_now)"
   ]
  }
 ],
 "metadata": {
  "kernelspec": {
   "display_name": "base",
   "language": "python",
   "name": "python3"
  },
  "language_info": {
   "codemirror_mode": {
    "name": "ipython",
    "version": 3
   },
   "file_extension": ".py",
   "mimetype": "text/x-python",
   "name": "python",
   "nbconvert_exporter": "python",
   "pygments_lexer": "ipython3",
   "version": "3.12.9"
  }
 },
 "nbformat": 4,
 "nbformat_minor": 2
}
