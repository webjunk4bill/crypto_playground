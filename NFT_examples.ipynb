{
 "cells": [
  {
   "cell_type": "code",
   "execution_count": null,
   "metadata": {},
   "outputs": [],
   "source": [
    "from core import sickle_nft_calculator as nft_calc\n",
    "from core import sickle_nft_tracker as nft_track\n",
    "import private"
   ]
  },
  {
   "cell_type": "code",
   "execution_count": null,
   "metadata": {},
   "outputs": [],
   "source": [
    "# start_block = 25707200\n",
    "# start_block = 26378974\n",
    "start_block = 27156714\n",
    "end_block = 99999999\n",
    "tracker = nft_track.SickleNFTtracker(start_block, end_block, private.wal_lp, private.sickle_lp)\n",
    "df = tracker.read_and_process_transactions()"
   ]
  },
  {
   "cell_type": "code",
   "execution_count": null,
   "metadata": {},
   "outputs": [],
   "source": [
    "x = tracker.df_main"
   ]
  },
  {
   "cell_type": "code",
   "execution_count": null,
   "metadata": {},
   "outputs": [],
   "source": [
    "tracker.write_csv()"
   ]
  },
  {
   "cell_type": "code",
   "execution_count": null,
   "metadata": {},
   "outputs": [],
   "source": [
    "calcs = nft_calc.SickleNFTcalculator(private.wal_lp)\n",
    "fees = calcs.get_daily_fees(\"new\")\n",
    "# fees = calcs.get_daily_fees(\"all\")"
   ]
  },
  {
   "cell_type": "code",
   "execution_count": null,
   "metadata": {},
   "outputs": [],
   "source": [
    "calcs.mark_transactions_recorded()"
   ]
  },
  {
   "cell_type": "code",
   "execution_count": null,
   "metadata": {},
   "outputs": [],
   "source": [
    "calcs.analyze_lp_performance()"
   ]
  },
  {
   "cell_type": "code",
   "execution_count": null,
   "metadata": {},
   "outputs": [],
   "source": [
    "import core.sickle_nft_calculator as nft_calc\n",
    "eth = nft_calc.SickleLPTracker(8416850)\n",
    "print(eth)"
   ]
  },
  {
   "cell_type": "code",
   "execution_count": null,
   "metadata": {},
   "outputs": [],
   "source": [
    "eth.current_tick = -67816\n",
    "eth.balances = eth.calc_balances()\n",
    "exit_now = eth.balances['token0_balance'] / eth.balances['token1_price'] + eth.balances['token1_balance']\n",
    "print(exit_now)\n",
    "eth.current_tick = -67100\n",
    "eth.balances = eth.calc_balances()\n",
    "print(eth)"
   ]
  },
  {
   "cell_type": "code",
   "execution_count": null,
   "metadata": {},
   "outputs": [],
   "source": [
    "eth.current_tick = -69700\n",
    "eth.balances = eth.calc_balances() \n",
    "print(eth)\n",
    "exit_now = eth.balances['token0_balance'] / eth.balances['token1_price'] + eth.balances['token1_balance']\n",
    "print(exit_now)"
   ]
  }
 ],
 "metadata": {
  "kernelspec": {
   "display_name": ".venv",
   "language": "python",
   "name": "python3"
  },
  "language_info": {
   "codemirror_mode": {
    "name": "ipython",
    "version": 3
   },
   "file_extension": ".py",
   "mimetype": "text/x-python",
   "name": "python",
   "nbconvert_exporter": "python",
   "pygments_lexer": "ipython3",
   "version": "3.12.5"
  }
 },
 "nbformat": 4,
 "nbformat_minor": 2
}
