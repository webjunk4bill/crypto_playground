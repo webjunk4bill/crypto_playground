{
 "cells": [
  {
   "cell_type": "markdown",
   "metadata": {},
   "source": [
    "So it's not possible to get the method ID during a token transfer and while I can get it from the standard tx list, the token transfers are not part of that list.\n",
    "\n",
    "The easiest way is probable just to take the transfers from the Sickle contract to my wallet and check to make sure no value is above a certain amount, like $5k or something, which will be an exit and not rebalance dust or harvesting.  \n",
    "\n",
    "To do this right, I would need to get the tx hashes and then look them up and figure out what the method is for each of them."
   ]
  },
  {
   "cell_type": "code",
   "execution_count": 1,
   "metadata": {},
   "outputs": [
    {
     "name": "stdout",
     "output_type": "stream",
     "text": [
      "Received transactions for USDC\n",
      "Received transactions for WETH\n",
      "Received transactions for cbBTC\n",
      "Received transactions for AERO\n"
     ]
    }
   ],
   "source": [
    "import transaction_class as tc\n",
    "# Method IDs\n",
    "rebalance_for = '0xe6fb317f'\n",
    "harvest = '0x5ec5999e'\n",
    "wallet = '0x8F9ACea6bC63470AA83169637CBf132482A28d55'\n",
    "sender = '0x58C8bc977f1C53d5Dc085aE26732fdaFe675646d'\n",
    "start_block = 25707612\n",
    "\n",
    "wal = tc.Transactions(wallet)\n",
    "wal.get_transactions(start_block)\n",
    "list = wal.filter_tx_list_by_sender(sender)"
   ]
  },
  {
   "cell_type": "code",
   "execution_count": 2,
   "metadata": {},
   "outputs": [],
   "source": [
    "import pandas as pd\n",
    "df = pd.DataFrame(list)\n",
    "df['timeStamp'] = pd.to_datetime(df['timeStamp'].astype(int), unit='s')\n",
    "df['value'] = df['value'].astype(float) / 10 ** df['tokenDecimal'].astype(int)\n",
    "# df.to_csv('wallet_tx.csv')"
   ]
  },
  {
   "cell_type": "code",
   "execution_count": null,
   "metadata": {},
   "outputs": [],
   "source": [
    "import requests\n",
    "from datetime import datetime, timedelta\n",
    "\n",
    "def get_historical_token_price(token_address, transaction_timestamp):\n",
    "    base_url = 'https://api.coingecko.com/api/v3/coins/markets'\n",
    "    \n",
    "    # Convert timestamp to date in 'YYYY-MM-DD' format\n",
    "    transaction_date = datetime.fromtimestamp(transaction_timestamp).date()\n",
    "\n",
    "    params = {\n",
    "        'vs_currency': 'usd',\n",
    "        'ids': token_address,\n",
    "        'order': 'market_cap_desc',\n",
    "        'per_page': '1',\n",
    "        'page': '1',\n",
    "        'date': transaction_date.strftime('%Y-%m-%d')\n",
    "    }\n",
    "\n",
    "    response = requests.get(base_url, params=params)\n",
    "    data = json.loads(response.text)\n",
    "\n",
    "    if data:\n",
    "        price = data[0]['price']\n",
    "    else:\n",
    "        price = 0\n",
    "\n",
    "    return price\n"
   ]
  },
  {
   "cell_type": "code",
   "execution_count": null,
   "metadata": {},
   "outputs": [],
   "source": [
    "def track_transactions(wallet_address, start_block, method_ids=None):\n",
    "    transactions = get_transactions(wallet_address, start_block, method_ids)\n",
    "\n",
    "    grouped_transactions = {}\n",
    "\n",
    "    for transaction in transactions:\n",
    "        token_address = transaction['address']\n",
    "        amount = int(transaction['data'].split(',')[0], 16)\n",
    "        method_id = transaction['topics'][1]\n",
    "\n",
    "        if token_address not in grouped_transactions:\n",
    "            grouped_transactions[token_address] = {\n",
    "                'total_amount': amount,\n",
    "                'usd_value': 0,\n",
    "                'transactions': [],\n",
    "            }\n",
    "        else:\n",
    "            grouped_transactions[token_address]['total_amount'] += amount\n",
    "\n",
    "        grouped_transactions[token_address]['transactions'].append({\n",
    "            'amount': amount,\n",
    "            'block': transaction['blockNumber'],\n",
    "            'timestamp': transaction['timeStamp'],\n",
    "            'method_id': method_id,\n",
    "        })\n",
    "\n",
    "    for token_address, data in grouped_transactions.items():\n",
    "        token_price = get_token_price(token_address)\n",
    "        data['usd_value'] = data['total_amount'] * token_price\n",
    "\n",
    "    return grouped_transactions\n",
    "\n",
    "# Example usage:\n",
    "wallet_address = \"0xYourWalletAddress\"  # Replace with your actual wallet address\n",
    "start_block = 1234567  # Replace with the block number from where you want to start tracking\n",
    "method_ids = [  # Replace with the method IDs you want to filter by\n",
    "    \"0xYourMethodID1\",\n",
    "    \"0xYourMethodID2\",\n",
    "]\n",
    "\n",
    "transaction_data = track_transactions(wallet_address, start_block, method_ids)\n",
    "\n",
    "for token_address, transactions in transaction_data.items():\n",
    "    print(f\"Token: {token_address}\")\n",
    "    print(f\"Total amount: {transactions['total_amount']}\")\n",
    "    print(f\"USD value: {transactions['usd_value']}\")\n",
    "    print(f\"Transactions:\")\n",
    "    for tx in transactions['transactions']:\n",
    "        print(f\"  - Amount: {tx['amount']}\")\n",
    "        print(f\"    Block: {tx['block']}\")\n",
    "        print(f\"    Timestamp: {tx['timestamp']}\")\n",
    "        print(f\"    Method ID: {tx['method_id']}\")\n",
    "        print(\"------------------\")\n"
   ]
  }
 ],
 "metadata": {
  "kernelspec": {
   "display_name": ".venv",
   "language": "python",
   "name": "python3"
  },
  "language_info": {
   "codemirror_mode": {
    "name": "ipython",
    "version": 3
   },
   "file_extension": ".py",
   "mimetype": "text/x-python",
   "name": "python",
   "nbconvert_exporter": "python",
   "pygments_lexer": "ipython3",
   "version": "3.12.5"
  }
 },
 "nbformat": 4,
 "nbformat_minor": 2
}
