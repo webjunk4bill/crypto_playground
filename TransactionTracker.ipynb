{
 "cells": [
  {
   "cell_type": "markdown",
   "metadata": {},
   "source": [
    "So it's not possible to get the method ID during a token transfer and while I can get it from the standard tx list, the token transfers are not part of that list.\n",
    "\n",
    "The easiest way is probable just to take the transfers from the Sickle contract to my wallet and check to make sure no value is above a certain amount, like $5k or something, which will be an exit and not rebalance dust or harvesting.  \n",
    "\n",
    "To do this right, I would need to get the tx hashes and then look them up and figure out what the method is for each of them.\n",
    "- This turns out to fail a lot.  It could be the web3 function I'm using.  Not sure it's useful to debug."
   ]
  },
  {
   "cell_type": "code",
   "execution_count": 1,
   "metadata": {},
   "outputs": [
    {
     "name": "stdout",
     "output_type": "stream",
     "text": [
      "Received transactions for USDC\n",
      "Received transactions for WETH\n",
      "Received transactions for cbBTC\n",
      "Received transactions for AERO\n",
      "Received 21 transactions for sender: 0x58C8bc977f1C53d5Dc085aE26732fdaFe675646d\n",
      "First Block Stored: 25930165\n",
      "Last Block Stored: 25995996\n",
      "Getting historical in_data for ethereum\n",
      "Try #1\n",
      "Getting historical in_data for aerodrome-finance\n",
      "Try #1\n",
      "Getting historical in_data for usd-coin\n",
      "Try #1\n",
      "Getting historical in_data for bitcoin\n",
      "Try #1\n"
     ]
    }
   ],
   "source": [
    "import transaction_class as tc\n",
    "import private\n",
    "\n",
    "# Method IDs\n",
    "rebalance_for = '0xe6fb317f'\n",
    "harvest = '0x5ec5999e'\n",
    "wallet = private.wal_lp\n",
    "sender = private.sickle_lp\n",
    "# start_block = 25707613  # Use the block after the last deposit\n",
    "start_block = 25915461  # Start fresh on Feb 03 5pm\n",
    "\n",
    "wal = tc.Transactions(wallet)\n",
    "wal.get_transactions(start_block)\n",
    "wal.filter_tx_list_by_sender(sender)\n",
    "wal.create_dataframe()\n",
    "wal.get_usd_prices()\n",
    "wal.update_prices()\n",
    "df = wal.df"
   ]
  },
  {
   "cell_type": "code",
   "execution_count": 2,
   "metadata": {},
   "outputs": [
    {
     "data": {
      "text/html": [
       "<div>\n",
       "<style scoped>\n",
       "    .dataframe tbody tr th:only-of-type {\n",
       "        vertical-align: middle;\n",
       "    }\n",
       "\n",
       "    .dataframe tbody tr th {\n",
       "        vertical-align: top;\n",
       "    }\n",
       "\n",
       "    .dataframe thead th {\n",
       "        text-align: right;\n",
       "    }\n",
       "</style>\n",
       "<table border=\"1\" class=\"dataframe\">\n",
       "  <thead>\n",
       "    <tr style=\"text-align: right;\">\n",
       "      <th></th>\n",
       "      <th>value</th>\n",
       "      <th>valueUsd</th>\n",
       "    </tr>\n",
       "    <tr>\n",
       "      <th>tokenSymbol</th>\n",
       "      <th></th>\n",
       "      <th></th>\n",
       "    </tr>\n",
       "  </thead>\n",
       "  <tbody>\n",
       "    <tr>\n",
       "      <th>AERO</th>\n",
       "      <td>6623.852585</td>\n",
       "      <td>6236.208555</td>\n",
       "    </tr>\n",
       "    <tr>\n",
       "      <th>USDC</th>\n",
       "      <td>8686.628853</td>\n",
       "      <td>8686.699053</td>\n",
       "    </tr>\n",
       "    <tr>\n",
       "      <th>WETH</th>\n",
       "      <td>0.659212</td>\n",
       "      <td>1827.685516</td>\n",
       "    </tr>\n",
       "    <tr>\n",
       "      <th>cbBTC</th>\n",
       "      <td>0.001267</td>\n",
       "      <td>122.142919</td>\n",
       "    </tr>\n",
       "  </tbody>\n",
       "</table>\n",
       "</div>"
      ],
      "text/plain": [
       "                   value     valueUsd\n",
       "tokenSymbol                          \n",
       "AERO         6623.852585  6236.208555\n",
       "USDC         8686.628853  8686.699053\n",
       "WETH            0.659212  1827.685516\n",
       "cbBTC           0.001267   122.142919"
      ]
     },
     "execution_count": 2,
     "metadata": {},
     "output_type": "execute_result"
    }
   ],
   "source": [
    "df.pivot_table(index='tokenSymbol', values=['value', 'valueUsd'], aggfunc='sum')"
   ]
  },
  {
   "cell_type": "code",
   "execution_count": 3,
   "metadata": {},
   "outputs": [],
   "source": [
    "df.to_csv('vfat_lp_dust_transactions.csv')"
   ]
  }
 ],
 "metadata": {
  "kernelspec": {
   "display_name": ".venv",
   "language": "python",
   "name": "python3"
  },
  "language_info": {
   "codemirror_mode": {
    "name": "ipython",
    "version": 3
   },
   "file_extension": ".py",
   "mimetype": "text/x-python",
   "name": "python",
   "nbconvert_exporter": "python",
   "pygments_lexer": "ipython3",
   "version": "3.12.5"
  }
 },
 "nbformat": 4,
 "nbformat_minor": 2
}
