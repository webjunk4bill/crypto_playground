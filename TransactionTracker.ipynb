{
 "cells": [
  {
   "cell_type": "markdown",
   "metadata": {},
   "source": [
    "So it's not possible to get the method ID during a token transfer and while I can get it from the standard tx list, the token transfers are not part of that list.\n",
    "\n",
    "The easiest way is probable just to take the transfers from the Sickle contract to my wallet and check to make sure no value is above a certain amount, like $5k or something, which will be an exit and not rebalance dust or harvesting.  \n",
    "\n",
    "To do this right, I would need to get the tx hashes and then look them up and figure out what the method is for each of them.\n",
    "- This turns out to fail a lot.  It could be the web3 function I'm using.  Not sure it's useful to debug."
   ]
  },
  {
   "cell_type": "code",
   "execution_count": null,
   "metadata": {},
   "outputs": [],
   "source": [
    "import transaction_class as tc\n",
    "import private\n",
    "\n",
    "# Method IDs\n",
    "rebalance_for = '0xe6fb317f'\n",
    "harvest = '0x5ec5999e'\n",
    "wallet = private.wal_lp\n",
    "sender = private.sickle_lp\n",
    "# start_block = 25707613  # Use the block after the last deposit\n",
    "start_block = 25915461  # Start fresh on Feb 03 5pm\n",
    "\n",
    "wal = tc.Transactions(wallet)\n",
    "wal.get_transactions(start_block)\n",
    "wal.filter_tx_list_by_sender(sender)\n",
    "wal.create_dataframe()\n",
    "wal.get_usd_prices()\n",
    "wal.update_prices()\n",
    "df = wal.df"
   ]
  },
  {
   "cell_type": "code",
   "execution_count": null,
   "metadata": {},
   "outputs": [],
   "source": [
    "df.pivot_table(index='tokenSymbol', values=['value', 'valueUsd'], aggfunc='sum')"
   ]
  },
  {
   "cell_type": "code",
   "execution_count": 3,
   "metadata": {},
   "outputs": [],
   "source": [
    "df.to_csv('vfat_lp_dust_transactions.csv')"
   ]
  }
 ],
 "metadata": {
  "kernelspec": {
   "display_name": ".venv",
   "language": "python",
   "name": "python3"
  },
  "language_info": {
   "codemirror_mode": {
    "name": "ipython",
    "version": 3
   },
   "file_extension": ".py",
   "mimetype": "text/x-python",
   "name": "python",
   "nbconvert_exporter": "python",
   "pygments_lexer": "ipython3",
   "version": "3.12.5"
  }
 },
 "nbformat": 4,
 "nbformat_minor": 2
}
