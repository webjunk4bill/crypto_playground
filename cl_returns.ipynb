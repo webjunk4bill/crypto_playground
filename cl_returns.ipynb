{
 "cells": [
  {
   "cell_type": "markdown",
   "metadata": {},
   "source": [
    "# Script to Calculate the impermanet losses of CL providing "
   ]
  },
  {
   "cell_type": "code",
   "execution_count": 3,
   "metadata": {},
   "outputs": [],
   "source": [
    "import pandas as pd\n",
    "import datetime as dt"
   ]
  },
  {
   "cell_type": "code",
   "execution_count": 23,
   "metadata": {},
   "outputs": [],
   "source": [
    "# Set up the initial conditions\n",
    "tk1_dep = 0.685394\n",
    "tk2_dep = 25000\n",
    "init_deposit_usd =  89011.00 \n",
    "\n",
    "tk1_usd = 96769\n",
    "tk2_usd = 1\n",
    "\n",
    "deposit_date = dt.date(2024, 12, 22)\n",
    "current_date = dt.date.today()\n",
    "\n",
    "current_lp_usd = 92085 + 276"
   ]
  },
  {
   "cell_type": "code",
   "execution_count": null,
   "metadata": {},
   "outputs": [],
   "source": [
    "# Perform Calculations\n",
    "days_passed = (current_date - deposit_date).days\n",
    "init_tk1_usd = tk1_dep * tk1_usd\n",
    "init_tk2_usd = tk2_dep * tk2_usd\n",
    "init_value = init_tk1_usd + init_tk2_usd\n",
    "\n",
    "apr = ((current_lp_usd - init_deposit_usd) / init_deposit_usd) / days_passed * 365\n",
    "delta = current_lp_usd - init_value\n",
    " "
   ]
  },
  {
   "cell_type": "code",
   "execution_count": 33,
   "metadata": {},
   "outputs": [
    {
     "name": "stdout",
     "output_type": "stream",
     "text": [
      "Days Passed: 16\n",
      "Deposit Token1 Current Value: $66324.89\n",
      "Deposit Token2 Current Value: $25000.00\n",
      "Deposit Tokens Current Value: $91324.89\n",
      "Current Value of CL Position: $92361.00\n",
      "CL Position vs Holding Tokens delta value: $1036.11\n",
      "APR of the CL LP: 85.9%\n"
     ]
    }
   ],
   "source": [
    "# Display Results\n",
    "print(f\"Days Passed: {days_passed}\")\n",
    "print(f\"Deposit Token1 Current Value: ${init_tk1_usd:.2f}\")\n",
    "print(f\"Deposit Token2 Current Value: ${init_tk2_usd:.2f}\")\n",
    "print(f\"Deposit Tokens Current Value: ${init_value:.2f}\")\n",
    "print(f\"Current Value of CL Position: ${current_lp_usd:.2f}\")\n",
    "print(f\"CL Position vs Holding Tokens delta value: ${delta:.2f}\")\n",
    "print(f\"APR of the CL LP: {apr*100:.1f}%\")\n"
   ]
  }
 ],
 "metadata": {
  "kernelspec": {
   "display_name": ".venv",
   "language": "python",
   "name": "python3"
  },
  "language_info": {
   "codemirror_mode": {
    "name": "ipython",
    "version": 3
   },
   "file_extension": ".py",
   "mimetype": "text/x-python",
   "name": "python",
   "nbconvert_exporter": "python",
   "pygments_lexer": "ipython3",
   "version": "3.11.10"
  }
 },
 "nbformat": 4,
 "nbformat_minor": 2
}
