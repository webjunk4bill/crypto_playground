{
 "cells": [
  {
   "cell_type": "code",
   "execution_count": 60,
   "metadata": {},
   "outputs": [],
   "source": [
    "import requests\n",
    "import pandas as pd\n",
    "import private\n",
    "\n",
    "# User Variables\n",
    "ETHERSCAN_API_KEY = private.etherscan_api\n",
    "CONTRACT_ADDRESS = \"0x827922686190790b37229fd06084350E74485b72\"\n",
    "ETHERSCAN_V2_API = 'https://api.etherscan.io/v2/api'\n",
    "FILTER_ADDRESSES = [private.wal_lp.lower(), private.sickle_lp.lower()]"
   ]
  },
  {
   "cell_type": "code",
   "execution_count": 53,
   "metadata": {},
   "outputs": [],
   "source": [
    "# Function to fetch NFT transfers\n",
    "def get_transactions(start_block, api_key, address, action='tokentx'):\n",
    "    # Just pull for given token IDs (based on Contract Address)\n",
    "        params = {\n",
    "            'chainid': '8453',  # base mainnet = 8453\n",
    "            'module': 'account',\n",
    "            'action': action,\n",
    "            # 'contractaddress': contract_address,\n",
    "            'address': address,\n",
    "            'page': '1',\n",
    "            'offset': '10000',\n",
    "            'startblock': start_block,\n",
    "            'endblock': 99999999,\n",
    "            'sort': 'asc',\n",
    "            'apikey': api_key\n",
    "        }\n",
    "\n",
    "        response = requests.get(f'{ETHERSCAN_V2_API}', params=params)\n",
    "        data = response.json()\n",
    "        if data[\"status\"] != \"1\":\n",
    "            print(\"Error fetching data:\", data[\"message\"], data['result'])\n",
    "            return []\n",
    "        \n",
    "        return data[\"result\"]"
   ]
  },
  {
   "cell_type": "code",
   "execution_count": 73,
   "metadata": {},
   "outputs": [],
   "source": [
    "nft_transactions = get_transactions(25707200, private.etherscan_api, private.sickle_lp, 'tokennfttx')\n",
    "token_transactions = get_transactions(25707200, private.etherscan_api, private.sickle_lp, 'tokentx')"
   ]
  },
  {
   "cell_type": "code",
   "execution_count": 69,
   "metadata": {},
   "outputs": [],
   "source": [
    "# Function to process token transfers\n",
    "def process_token_transfers(transfers):\n",
    "    df = pd.DataFrame(transfers)\n",
    "    df = df[[\"blockNumber\", \"timeStamp\", \"hash\", \"from\", \"to\", \"value\", \"tokenSymbol\", \"tokenDecimal\"]]\n",
    "    df[\"timeStamp\"] = pd.to_datetime(pd.to_numeric(df[\"timeStamp\"], errors='coerce'), unit='s')\n",
    "    df[\"value\"] = df[\"value\"].astype(float) / (10 ** df['tokenDecimal'].astype(int))  # Convert to standard token value\n",
    "\n",
    "    # Filter based on specified addresses\n",
    "    df = df[df[\"from\"].isin(FILTER_ADDRESSES) & df[\"to\"].isin(FILTER_ADDRESSES)]\n",
    "\n",
    "    return df"
   ]
  },
  {
   "cell_type": "code",
   "execution_count": 74,
   "metadata": {},
   "outputs": [],
   "source": [
    "tokens = process_token_transfers(token_transactions)"
   ]
  },
  {
   "cell_type": "code",
   "execution_count": 71,
   "metadata": {},
   "outputs": [],
   "source": [
    "# Function to process transactions and track series\n",
    "def process_transactions(transactions, token_transfers):\n",
    "    df = pd.DataFrame(transactions)\n",
    "    df = df[[\"blockNumber\", \"timeStamp\", \"hash\", \"from\", \"to\", \"tokenID\"]]\n",
    "    df[\"timeStamp\"] = pd.to_datetime(pd.to_numeric(df[\"timeStamp\"], errors='coerce'), unit='s')\n",
    "    \n",
    "    # Identify burns (to burn address) and mints (from address is zero address)\n",
    "    burn_address = \"0x0000000000000000000000000000000000000000\"\n",
    "    df[\"event_type\"] = df.apply(lambda row: \"Mint\" if row[\"from\"] == burn_address else \"Burn\" if row[\"to\"] == burn_address else \"Transfer\", axis=1)\n",
    "    \n",
    "    # Identify NFT series\n",
    "    series_map = {}\n",
    "    series_counter = 1\n",
    "    token_df = pd.DataFrame(token_transfers)\n",
    "    for _, row in token_df.iterrows():\n",
    "        if row[\"from\"].lower() == private.wal_lp.lower():\n",
    "            tx_hash = row[\"hash\"]\n",
    "            matching_nft_mints = df[(df[\"hash\"] == tx_hash) & (df[\"event_type\"] == \"Mint\")]\n",
    "            for _, mint in matching_nft_mints.iterrows():\n",
    "                series_map[mint[\"tokenID\"]] = series_counter\n",
    "            series_counter += 1\n",
    "    \n",
    "    # Assign series ID to subsequent burns and mints\n",
    "    df[\"series_id\"] = df[\"tokenID\"].map(series_map)\n",
    "    for _, row in df.iterrows():\n",
    "        if row[\"event_type\"] == \"Burn\" and row[\"tokenID\"] in series_map:\n",
    "            tx_hash = row[\"hash\"]\n",
    "            new_mint = df[(df[\"hash\"] == tx_hash) & (df[\"event_type\"] == \"Mint\")]\n",
    "            for _, mint in new_mint.iterrows():\n",
    "                series_map[mint[\"tokenID\"]] = series_map[row[\"tokenID\"]]\n",
    "    \n",
    "    df[\"series_id\"] = df[\"tokenID\"].map(series_map)\n",
    "    return df"
   ]
  },
  {
   "cell_type": "code",
   "execution_count": 75,
   "metadata": {},
   "outputs": [],
   "source": [
    "nft = process_transactions(nft_transactions, tokens)"
   ]
  }
 ],
 "metadata": {
  "kernelspec": {
   "display_name": ".venv",
   "language": "python",
   "name": "python3"
  },
  "language_info": {
   "codemirror_mode": {
    "name": "ipython",
    "version": 3
   },
   "file_extension": ".py",
   "mimetype": "text/x-python",
   "name": "python",
   "nbconvert_exporter": "python",
   "pygments_lexer": "ipython3",
   "version": "3.12.5"
  }
 },
 "nbformat": 4,
 "nbformat_minor": 2
}
