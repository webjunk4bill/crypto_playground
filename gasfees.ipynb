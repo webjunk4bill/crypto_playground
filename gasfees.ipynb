{
 "cells": [
  {
   "cell_type": "code",
   "execution_count": 3,
   "metadata": {},
   "outputs": [
    {
     "name": "stdout",
     "output_type": "stream",
     "text": [
      "Processing wallet: 0x00d0f8fbf72d67821984f172bc19c3904467950f\n",
      "Wallet data: {'USD': np.float64(216.44526583843435), 'Native': np.float64(0.33853293711293997), 'Token:': 'BNB'}\n",
      "Processing wallet: 0x8f9acea6bc63470aa83169637cbf132482a28d55 (1)\n",
      "Wallet data: {'USD': np.float64(68.12363850643241), 'Native': np.float64(0.0201731222727691), 'Token:': 'ETH'}\n",
      "Processing wallet: 0x7ef564536bd8d4887fefda9a1c136e92d7696f2f\n",
      "Wallet data: {'USD': np.float64(2.3019985736789983), 'Native': np.float64(0.0007254789549544001), 'Token:': 'ETH'}\n",
      "Processing wallet: 0xd8091c5092f1345382c487015a939ccd339a9cb8\n",
      "Wallet data: {'USD': np.float64(93.27607424932802), 'Native': np.float64(0.15030214779999998), 'Token:': 'BNB'}\n",
      "Processing wallet: 0x8f9acea6bc63470aa83169637cbf132482a28d55\n",
      "Wallet data: {'USD': np.float64(124.04789213770864), 'Native': np.float64(0.22588692712587996), 'Token:': 'BNB'}\n"
     ]
    }
   ],
   "source": [
    "\"\"\"\n",
    "This script reads a directory of bscscan exports and calculates the total gas fees paid\n",
    "Useful for taxes if you haen't been keeping track during the year\n",
    "\"\"\"\n",
    "\n",
    "import sys\n",
    "import pandas as pd\n",
    "import os\n",
    "import glob\n",
    "import numpy as np\n",
    "import re\n",
    "\n",
    "# path = sys.stdin.read().strip()\n",
    "# path = '/Volumes/Finance_Vault/Mom_2024/Crypto_fees'  # Enter your path here\n",
    "path = '/Volumes/Finance_Vault/Taxes_2024/BSC_Data'  # Enter your path here\n",
    "csv_files = glob.glob(os.path.join(path, \"export*.csv\"))\n",
    "fees = {}\n",
    "for f in csv_files:\n",
    "    wallet = re.search(r\"-(.*)\\.csv\", f).group(1)\n",
    "    df = pd.read_csv(f, index_col=False)\n",
    "    if 'TxnFee(BNB)' in df.columns:\n",
    "        df['fee_usd'] = np.multiply(df['TxnFee(BNB)'], df['Historical $Price/BNB'])\n",
    "        df['fee_native'] = df['TxnFee(BNB)']\n",
    "        df['token'] = 'BNB'\n",
    "    elif 'TxnFee(ETH)' in df.columns:\n",
    "        df['fee_usd'] = np.multiply(df['TxnFee(ETH)'], df['Historical $Price/ETH'])\n",
    "        df['fee_native'] = df['TxnFee(ETH)']\n",
    "        df['token'] = 'ETH'\n",
    "    else:\n",
    "        print(f\"No fee column found in {f}\")\n",
    "        continue\n",
    "    fees[wallet] = {'USD': np.sum(df['fee_usd']), \n",
    "                    'Native': np.sum(df['fee_native']),\n",
    "                    'Token:': df['token'][0]\n",
    "                    }\n",
    "    \n",
    "total_fees_by_token = {}\n",
    "for wallet, wallet_data in fees.items():\n",
    "    print(f\"Processing wallet: {wallet}\")\n",
    "    print(f\"Wallet data: {wallet_data}\")\n",
    "\n",
    "    token = wallet_data['Token:']\n",
    "\n",
    "    if token not in total_fees_by_token:\n",
    "        total_fees_by_token[token] = {\n",
    "            'USD': 0,\n",
    "            'Native': 0\n",
    "        }\n",
    "\n",
    "    total_fees_by_token[token]['USD'] += wallet_data['USD']\n",
    "    total_fees_by_token[token]['Native'] += wallet_data['Native']\n"
   ]
  },
  {
   "cell_type": "code",
   "execution_count": 4,
   "metadata": {},
   "outputs": [
    {
     "name": "stdout",
     "output_type": "stream",
     "text": [
      "Total fees by token:\n",
      "Token: BNB\n",
      "USD fees: 433.77\n",
      "Native fees: 0.714722\n",
      "------------------------------\n",
      "Token: ETH\n",
      "USD fees: 70.43\n",
      "Native fees: 0.020899\n",
      "------------------------------\n"
     ]
    }
   ],
   "source": [
    "print(\"Total fees by token:\")\n",
    "for token, fees in total_fees_by_token.items():\n",
    "    print(f\"Token: {token}\")\n",
    "    print(f\"USD fees: {np.round(fees['USD'], 2)}\")\n",
    "    print(f\"Native fees: {np.round(fees['Native'], 6)}\")\n",
    "    print(\"-\" * 30)"
   ]
  }
 ],
 "metadata": {
  "kernelspec": {
   "display_name": ".venv",
   "language": "python",
   "name": "python3"
  },
  "language_info": {
   "codemirror_mode": {
    "name": "ipython",
    "version": 3
   },
   "file_extension": ".py",
   "mimetype": "text/x-python",
   "name": "python",
   "nbconvert_exporter": "python",
   "pygments_lexer": "ipython3",
   "version": "3.11.10"
  }
 },
 "nbformat": 4,
 "nbformat_minor": 2
}
