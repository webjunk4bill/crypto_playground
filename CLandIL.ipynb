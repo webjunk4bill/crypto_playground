{
 "cells": [
  {
   "cell_type": "markdown",
   "metadata": {},
   "source": [
    "## Investigating Concentrated Liquidity and Impermanent Loss\n",
    "\n",
    "### Goals\n",
    "- Look at various ranges of price for each token across time and fee collection\n",
    "- Want to understand how much fees need to be collected to cover the impermanent loss\n",
    "- Try to figure out the best ranges based on estimates of total price changes\n",
    "\n",
    "### Questions\n",
    "- Should the program be able to apply re-balance using geometric mean?\n",
    "- Should linear regression be used to help find the answers?  Or just look at 3D plots?\n",
    "- Can look at both compounding and just collecting fees\n",
    "\n",
    "\n",
    "### Notes\n",
    "- Don't bother trying to calculate the fees generated based on volume, just figure out what the fees need to be based on the \"final\" price of the tokens\n",
    "- Create \"high-side\" and \"low-side\" outs and figure out the fees required and and what the APR would need to average given a timeframe that it did stay in the range \n",
    "- Then can get fancy and do re-balances, etc.\n",
    "\n",
    "### Ideas\n",
    "- Set a future date and then a list of prices and a probability for hitting each one at the end of the period.  Then calculate the difference in impermanent loss assuming you are re-balancing and compounding\n",
    "\n"
   ]
  },
  {
   "cell_type": "code",
   "execution_count": null,
   "metadata": {},
   "outputs": [],
   "source": [
    "# Look at impermanent loss with a 10% increase \n",
    "import helper_classes as hc\n",
    "\n",
    "seed_usd = 10000\n",
    "btc = hc.Token(\"BTC\", 97500)\n",
    "usdc = hc.Token(\"USDC\", 1)\n",
    "\n",
    "lp = hc.LiquidityPool(btc, usdc)\n",
    "lp.initialize_range(seed_usd, 10, 10)\n",
    "btc.price *= 1.1\n",
    "lp.update_token_balances(30)\n",
    "print(lp)\n"
   ]
  },
  {
   "cell_type": "code",
   "execution_count": null,
   "metadata": {},
   "outputs": [],
   "source": [
    "# Look at IL with a ± 20% range chasing the price\n",
    "import helper_classes as hc\n",
    "\n",
    "seed_usd = 10000\n",
    "btc = hc.Token(\"BTC\", 97500)\n",
    "usdc = hc.Token(\"USDC\", 1)\n",
    "\n",
    "lp = hc.LiquidityPool(btc, usdc)\n",
    "lp.initialize_range(seed_usd, 10, 10)\n",
    "price = [1, 1, -1, -1, -1, 1]\n",
    "for i in price:\n",
    "    btc.price *= (1 + i/10)\n",
    "    lp.update_token_balances(30)\n",
    "    lp.rebalance(10, 10)\n",
    "print(lp)"
   ]
  },
  {
   "cell_type": "code",
   "execution_count": null,
   "metadata": {},
   "outputs": [],
   "source": [
    "# Loop LP price and duration and check APR required\n",
    "import numpy as np\n",
    "import pandas as pd\n",
    "import helper_classes as hc\n",
    "import matplotlib.pyplot as plt\n",
    "\n",
    "seed_usd = 10000\n",
    "btc = hc.Token(\"BTC\", 97500)\n",
    "usdc = hc.Token(\"USDC\", 1)\n",
    "lp = hc.LiquidityPool(btc, usdc)\n",
    "lp.initialize_range(seed_usd, 10, 10)\n",
    "aprs = []\n",
    "\n",
    "for price in np.arange(90000, 110000, 1000):\n",
    "    for duration in np.arange(0, 70, 7):\n",
    "        btc.price = price\n",
    "        lp.update_token_balances(duration)\n",
    "        data = [price, duration, lp.apr]\n",
    "        aprs.append(data)\n",
    "\n",
    "data = pd.DataFrame(aprs, columns=['price', 'duration', 'apr'])\n",
    "print(data)"
   ]
  },
  {
   "cell_type": "code",
   "execution_count": null,
   "metadata": {},
   "outputs": [],
   "source": [
    "# Testers\n",
    "import helper_classes as hc\n",
    "\n",
    "seed_usd = 10000\n",
    "btc = hc.Token(\"BTC\", 97500)\n",
    "usdc = hc.Token(\"USDC\", 1)\n",
    "eth = hc.Token(\"ETH\", 3600)\n",
    "\n",
    "lp = hc.LiquidityPool(btc, usdc)\n",
    "lp.initialize_range(seed_usd, 10, 15)\n",
    "print(lp)\n",
    "lp.token_x.price = 110000\n",
    "lp.update_token_balances(30)\n",
    "print(lp)\n",
    "\n",
    "lp2 = hc.LiquidityPool(eth, btc)\n",
    "lp2.initialize_range(seed_usd, 10, 10)\n",
    "print(lp2)\n",
    "lp2.token_x.price = 3800\n",
    "lp2.token_y.price = 110000\n",
    "lp2.update_token_balances(30)\n",
    "print(lp2)"
   ]
  },
  {
   "cell_type": "code",
   "execution_count": null,
   "metadata": {},
   "outputs": [],
   "source": [
    "# Test 2\n",
    "import helper_classes as hc\n",
    "\n",
    "seed_usd = 10000\n",
    "btc = hc.Token(\"BTC\", 97500)\n",
    "usdc = hc.Token(\"USDC\", 1)\n",
    "\n",
    "lp = hc.LiquidityPool(btc, usdc)\n",
    "lp.initialize_range(seed_usd, 10, 10)\n",
    "print(lp)\n",
    "btc.price *= 1.05\n",
    "lp.update_token_balances(10)\n",
    "print(lp)\n",
    "lp.coumpound_fees(350)\n",
    "print(lp)"
   ]
  },
  {
   "cell_type": "code",
   "execution_count": 5,
   "metadata": {},
   "outputs": [
    {
     "name": "stdout",
     "output_type": "stream",
     "text": [
      "Getting historical in_data for bitcoin\n",
      "Try #1\n",
      "                                price        volume\n",
      "timestamp                                          \n",
      "2024-11-11 00:21:15.769  80525.262875  9.304935e+10\n",
      "2024-11-11 01:13:35.252  80435.760874  9.474731e+10\n",
      "2024-11-11 02:16:23.203  81464.083669  9.851796e+10\n",
      "2024-11-11 03:04:00.770  81475.906418  9.791896e+10\n",
      "2024-11-11 04:08:16.760  81674.579558  8.167165e+10\n",
      "...                               ...           ...\n",
      "2025-01-10 19:03:55.243  94841.516564  6.864513e+10\n",
      "2025-01-10 20:08:35.312  95288.329574  6.703519e+10\n",
      "2025-01-10 21:00:57.667  94749.638003  6.429643e+10\n",
      "2025-01-10 22:03:43.920  94615.502750  6.663419e+10\n",
      "2025-01-10 23:03:01.396  94761.414837  6.082305e+10\n",
      "\n",
      "[1463 rows x 2 columns]\n"
     ]
    }
   ],
   "source": [
    "import helper_classes as hc\n",
    "import pandas as pd\n",
    "\n",
    "api_id = 'bitcoin'\n",
    "start = pd.Timestamp('2024-11-11')\n",
    "end = pd.Timestamp('2025-01-11')\n",
    "\n",
    "data = pd.DataFrame(hc.get_historical_prices(api_id, start, end)).T\n",
    "print(data)"
   ]
  },
  {
   "cell_type": "code",
   "execution_count": 12,
   "metadata": {},
   "outputs": [],
   "source": [
    "data['gain'] = data['price'].pct_change()\n",
    "mean_gain = data['gain'].mean()\n",
    "std_gain = data['gain'].std()\n",
    "\n",
    "btc = hc.Token(\"BTC\", 97500)\n",
    "days = 90\n",
    "b = hc.Brownian()\n",
    "predict = []\n",
    "for i in range(100):\n",
    "    x = b.stock_price(btc.price, mean_gain, std_gain, days, 1)\n",
    "    predict.append(x)\n",
    "df = pd.DataFrame(predict).T\n",
    "end = df.iloc[-1]"
   ]
  }
 ],
 "metadata": {
  "kernelspec": {
   "display_name": ".venv",
   "language": "python",
   "name": "python3"
  },
  "language_info": {
   "codemirror_mode": {
    "name": "ipython",
    "version": 3
   },
   "file_extension": ".py",
   "mimetype": "text/x-python",
   "name": "python",
   "nbconvert_exporter": "python",
   "pygments_lexer": "ipython3",
   "version": "3.11.10"
  }
 },
 "nbformat": 4,
 "nbformat_minor": 2
}
