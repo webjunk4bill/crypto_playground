{
 "cells": [
  {
   "cell_type": "markdown",
   "metadata": {},
   "source": [
    "## Investigating Concentrated Liquidity and Impermanent Loss\n",
    "\n",
    "### Goals\n",
    "- Look at various ranges of price for each token across time and fee collection\n",
    "- Want to understand how much fees need to be collected to cover the impermanent loss\n",
    "- Try to figure out the best ranges based on estimates of total price changes\n",
    "\n",
    "### Questions\n",
    "- Should the program be able to apply re-balance using geometric mean?\n",
    "- Should linear regression be used to help find the answers?  Or just look at 3D plots?\n",
    "- Can look at both compounding and just collecting fees\n",
    "\n",
    "\n",
    "### Notes\n",
    "- Don't bother trying to calculate the fees generated based on volume, just figure out what the fees need to be based on the \"final\" price of the tokens\n",
    "- Create \"high-side\" and \"low-side\" outs and figure out the fees required and and what the APR would need to average given a timeframe that it did stay in the range \n",
    "- Then can get fancy and do re-balances, etc.\n",
    "\n",
    "### Ideas\n",
    "- Set a future date and then a list of prices and a probability for hitting each one at the end of the period.  Then calculate the difference in impermanent loss assuming you are re-balancing and compounding\n",
    "\n"
   ]
  },
  {
   "cell_type": "code",
   "execution_count": null,
   "metadata": {},
   "outputs": [],
   "source": [
    "# Look at impermanent loss with a 10% increase \n",
    "import helper_classes as hc\n",
    "\n",
    "seed_usd = 10000\n",
    "btc = hc.Token(\"BTC\", 97500)\n",
    "usdc = hc.Token(\"USDC\", 1)\n",
    "\n",
    "lp = hc.LiquidityPool(btc, usdc)\n",
    "lp.initialize_range(seed_usd, 10, 10)\n",
    "btc.price *= 1.1\n",
    "lp.update_token_balances(30)\n",
    "print(lp)\n"
   ]
  },
  {
   "cell_type": "code",
   "execution_count": null,
   "metadata": {},
   "outputs": [],
   "source": [
    "# Look at IL with a ± 20% range chasing the price\n",
    "import helper_classes as hc\n",
    "\n",
    "seed_usd = 10000\n",
    "btc = hc.Token(\"BTC\", 97500)\n",
    "usdc = hc.Token(\"USDC\", 1)\n",
    "\n",
    "lp = hc.LiquidityPool(btc, usdc)\n",
    "lp.initialize_range(seed_usd, 10, 10)\n",
    "price = [1, 1, -1, -1, -1, 1]\n",
    "for i in price:\n",
    "    btc.price *= (1 + i/10)\n",
    "    lp.update_token_balances(30)\n",
    "    lp.rebalance(10, 10)\n",
    "print(lp)"
   ]
  },
  {
   "cell_type": "code",
   "execution_count": null,
   "metadata": {},
   "outputs": [],
   "source": [
    "# Loop LP price and duration and check APR required\n",
    "import numpy as np\n",
    "import pandas as pd\n",
    "import helper_classes as hc\n",
    "import matplotlib.pyplot as plt\n",
    "\n",
    "seed_usd = 10000\n",
    "btc = hc.Token(\"BTC\", 97500)\n",
    "usdc = hc.Token(\"USDC\", 1)\n",
    "lp = hc.LiquidityPool(btc, usdc)\n",
    "lp.initialize_range(seed_usd, 10, 10)\n",
    "aprs = []\n",
    "\n",
    "for price in np.arange(90000, 110000, 1000):\n",
    "    for duration in np.arange(0, 70, 7):\n",
    "        btc.price = price\n",
    "        lp.update_token_balances(duration)\n",
    "        data = [price, duration, lp.apr]\n",
    "        aprs.append(data)\n",
    "\n",
    "data = pd.DataFrame(aprs, columns=['price', 'duration', 'apr'])\n",
    "print(data)"
   ]
  },
  {
   "cell_type": "code",
   "execution_count": null,
   "metadata": {},
   "outputs": [],
   "source": [
    "# Testers\n",
    "import helper_classes as hc\n",
    "\n",
    "seed_usd = 10000\n",
    "btc = hc.Token(\"BTC\", 97500)\n",
    "usdc = hc.Token(\"USDC\", 1)\n",
    "eth = hc.Token(\"ETH\", 3600)\n",
    "\n",
    "lp = hc.LiquidityPool(btc, usdc)\n",
    "lp.initialize_range(seed_usd, 10, 15)\n",
    "print(lp)\n",
    "lp.token_x.price = 110000\n",
    "lp.update_token_balances(30)\n",
    "print(lp)\n",
    "\n",
    "lp2 = hc.LiquidityPool(eth, btc)\n",
    "lp2.initialize_range(seed_usd, 10, 10)\n",
    "print(lp2)\n",
    "lp2.token_x.price = 3800\n",
    "lp2.token_y.price = 110000\n",
    "lp2.update_token_balances(30)\n",
    "print(lp2)"
   ]
  },
  {
   "cell_type": "code",
   "execution_count": null,
   "metadata": {},
   "outputs": [],
   "source": [
    "# Test 2\n",
    "import helper_classes as hc\n",
    "\n",
    "seed_usd = 10000\n",
    "btc = hc.Token(\"BTC\", 97500)\n",
    "usdc = hc.Token(\"USDC\", 1)\n",
    "\n",
    "lp = hc.LiquidityPool(btc, usdc)\n",
    "lp.initialize_range(seed_usd, 10, 10)\n",
    "print(lp)\n",
    "btc.price *= 1.05\n",
    "lp.update_token_balances(10)\n",
    "print(lp)\n",
    "lp.coumpound_fees(350)\n",
    "print(lp)"
   ]
  },
  {
   "cell_type": "code",
   "execution_count": 32,
   "metadata": {},
   "outputs": [
    {
     "name": "stdout",
     "output_type": "stream",
     "text": [
      "Getting historical in_data for bitcoin\n",
      "Try #1\n",
      "Getting historical in_data for bitcoin\n",
      "Try #1\n",
      "Getting historical in_data for bitcoin\n",
      "Try #1\n"
     ]
    }
   ],
   "source": [
    "# Get historical pricing data\n",
    "import helper_classes as hc\n",
    "import pandas as pd\n",
    "\n",
    "api_id = 'bitcoin'\n",
    "start = pd.Timestamp('2024-12-12')\n",
    "end = pd.Timestamp('2025-01-11')\n",
    "month_data = pd.DataFrame(hc.get_historical_prices(api_id, start, end)).T\n",
    "\n",
    "start = pd.Timestamp('2024-10-12')\n",
    "ninety_data = pd.DataFrame(hc.get_historical_prices(api_id, start, end)).T\n",
    "\n",
    "start = pd.Timestamp('2024-01-12')\n",
    "year_data = pd.DataFrame(hc.get_historical_prices(api_id, start, end)).T"
   ]
  },
  {
   "cell_type": "code",
   "execution_count": 33,
   "metadata": {},
   "outputs": [
    {
     "data": {
      "text/plain": [
       "<Axes: >"
      ]
     },
     "execution_count": 33,
     "metadata": {},
     "output_type": "execute_result"
    },
    {
     "data": {
      "image/png": "[encoded data removed]",
      "text/plain": [
       "<Figure size 640x480 with 1 Axes>"
      ]
     },
     "metadata": {},
     "output_type": "display_data"
    }
   ],
   "source": [
    "# Use Weiner process to get future price predictions\n",
    "data = ninety_data.copy()\n",
    "data['gain'] = data['price'].pct_change()\n",
    "mean_gain = data['gain'].mean()\n",
    "std_gain = data['gain'].std()\n",
    "\n",
    "btc = hc.Token(\"BTC\", 95000)\n",
    "days = 90\n",
    "iterations = 10000\n",
    "b = hc.Brownian()\n",
    "predict = []\n",
    "for i in range(iterations):\n",
    "    x = b.stock_price(btc.price, mean_gain, std_gain, days, 1)\n",
    "    predict.append(x)\n",
    "df = pd.DataFrame(predict).T\n",
    "end = df.iloc[-1]\n",
    "end.hist(bins=50)"
   ]
  },
  {
   "cell_type": "code",
   "execution_count": 34,
   "metadata": {},
   "outputs": [
    {
     "name": "stdout",
     "output_type": "stream",
     "text": [
      "95th percentile = 5502.34 | APR Required = 223.2%\n",
      "Mean = 4840.28 | APR Required = 196.3%\n"
     ]
    }
   ],
   "source": [
    "# Calculate IL for each price case and look at the 95th percentile value\n",
    "btc = hc.Token(\"BTC\", 95000)\n",
    "usdc = hc.Token(\"USDC\", 1)\n",
    "lp = hc.LiquidityPool(btc, usdc)\n",
    "seed_usd = 10000\n",
    "lp.initialize_range(seed_usd, 10, 10)\n",
    "il = []\n",
    "for idx, val in end.items():\n",
    "    btc.price = val\n",
    "    lp.update_token_balances(days)\n",
    "    il.append(lp.impermanent_loss)\n",
    "result = pd.Series(il)\n",
    "pct_95 = result.quantile(0.95)\n",
    "print(\n",
    "    f\"95th percentile = {pct_95:.2f} | APR Required = {pct_95/seed_usd*100*365/days:.1f}%\\n\"\n",
    "    f\"Mean = {result.mean():.2f} | APR Required = {result.mean()/seed_usd*100*365/days:.1f}%\"\n",
    "    )"
   ]
  }
 ],
 "metadata": {
  "kernelspec": {
   "display_name": ".venv",
   "language": "python",
   "name": "python3"
  },
  "language_info": {
   "codemirror_mode": {
    "name": "ipython",
    "version": 3
   },
   "file_extension": ".py",
   "mimetype": "text/x-python",
   "name": "python",
   "nbconvert_exporter": "python",
   "pygments_lexer": "ipython3",
   "version": "3.11.10"
  }
 },
 "nbformat": 4,
 "nbformat_minor": 2
}
