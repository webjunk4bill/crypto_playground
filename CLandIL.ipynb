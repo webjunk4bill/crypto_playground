{
 "cells": [
  {
   "cell_type": "markdown",
   "metadata": {},
   "source": [
    "## Investigating Concentrated Liquidity and Impermanent Loss\n",
    "\n",
    "### Goals\n",
    "- Look at various ranges of price for each token across time and fee collection\n",
    "- Want to understand how much fees need to be collected to cover the impermanent loss\n",
    "- Try to figure out the best ranges based on estimates of total price changes\n",
    "\n",
    "### Questions\n",
    "- Should the program be able to apply re-balance using geometric mean?\n",
    "- Should linear regression be used to help find the answers?  Or just look at 3D plots?\n",
    "- Can look at both compounding and just collecting fees\n",
    "\n",
    "\n",
    "### Notes\n",
    "- Don't bother trying to calculate the fees generated based on volume, just figure out what the fees need to be based on the \"final\" price of the tokens\n",
    "- Create \"high-side\" and \"low-side\" outs and figure out the fees required and and what the APR would need to average given a timeframe that it did stay in the range \n",
    "- Then can get fancy and do re-balances, etc.\n",
    "\n"
   ]
  },
  {
   "cell_type": "code",
   "execution_count": null,
   "metadata": {},
   "outputs": [],
   "source": [
    "# Look at impermanent loss with a 10% increase \n",
    "import helper_classes as hc\n",
    "\n",
    "seed_usd = 10000\n",
    "btc = hc.Token(\"BTC\", 97500)\n",
    "usdc = hc.Token(\"USDC\", 1)\n",
    "\n",
    "lp = hc.LiquidityPool(btc, usdc)\n",
    "lp.create_range(seed_usd, 10, 10)\n",
    "btc.price *= 1.1\n",
    "lp.update_token_balances(30)\n",
    "print(lp)\n"
   ]
  },
  {
   "cell_type": "code",
   "execution_count": null,
   "metadata": {},
   "outputs": [],
   "source": [
    "# Look at IL with a 30% increase with re-balancing to chase it upwards\n",
    "import helper_classes as hc\n",
    "\n",
    "seed_usd = 10000\n",
    "btc = hc.Token(\"BTC\", 97500)\n",
    "usdc = hc.Token(\"USDC\", 1)\n",
    "\n",
    "lp = hc.LiquidityPool(btc, usdc)\n",
    "lp.create_range(seed_usd, 10, 10)\n",
    "price = [1, 1, -1, -1, -1, 1]\n",
    "for i in price:\n",
    "    btc.price *= (1 + i/10)\n",
    "    lp.update_token_balances(30)\n",
    "    lp.rebalance(10, 10)\n",
    "print(lp)"
   ]
  },
  {
   "cell_type": "code",
   "execution_count": null,
   "metadata": {},
   "outputs": [],
   "source": [
    "# Loop LP price and duration and check APR required\n",
    "import numpy as np\n",
    "import pandas as pd\n",
    "import helper_classes as hc\n",
    "import matplotlib.pyplot as plt\n",
    "\n",
    "seed_usd = 10000\n",
    "btc = hc.Token(\"BTC\", 97500)\n",
    "usdc = hc.Token(\"USDC\", 1)\n",
    "lp = hc.LiquidityPool(btc, usdc)\n",
    "lp.create_range(seed_usd, 10, 10)\n",
    "aprs = []\n",
    "\n",
    "for price in np.arange(90000, 110000, 1000):\n",
    "    for duration in np.arange(0, 70, 7):\n",
    "        btc.price = price\n",
    "        lp.update_token_balances(duration)\n",
    "        data = [price, duration, lp.apr]\n",
    "        aprs.append(data)\n",
    "\n",
    "data = pd.DataFrame(aprs, columns=['price', 'duration', 'apr'])\n",
    "print(data)"
   ]
  },
  {
   "cell_type": "code",
   "execution_count": null,
   "metadata": {},
   "outputs": [],
   "source": [
    "# Testers\n",
    "import helper_classes as hc\n",
    "\n",
    "seed_usd = 10000\n",
    "btc = hc.Token(\"BTC\", 97500)\n",
    "usdc = hc.Token(\"USDC\", 1)\n",
    "eth = hc.Token(\"ETH\", 3600)\n",
    "\n",
    "lp = hc.LiquidityPool(btc, usdc)\n",
    "lp.create_range(seed_usd, 10, 15)\n",
    "print(lp)\n",
    "lp.token_x.price = 110000\n",
    "lp.update_token_balances(30)\n",
    "print(lp)\n",
    "\n",
    "lp2 = hc.LiquidityPool(eth, btc)\n",
    "lp2.create_range(seed_usd, 10, 10)\n",
    "print(lp2)\n",
    "lp2.token_x.price = 3800\n",
    "lp2.token_y.price = 110000\n",
    "lp2.update_token_balances(30)\n",
    "print(lp2)"
   ]
  }
 ],
 "metadata": {
  "kernelspec": {
   "display_name": ".venv",
   "language": "python",
   "name": "python3"
  },
  "language_info": {
   "codemirror_mode": {
    "name": "ipython",
    "version": 3
   },
   "file_extension": ".py",
   "mimetype": "text/x-python",
   "name": "python",
   "nbconvert_exporter": "python",
   "pygments_lexer": "ipython3",
   "version": "3.11.10"
  }
 },
 "nbformat": 4,
 "nbformat_minor": 2
}
