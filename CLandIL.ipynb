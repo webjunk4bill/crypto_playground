{
 "cells": [
  {
   "cell_type": "markdown",
   "metadata": {},
   "source": [
    "## Investigating Concentrated Liquidity and Impermanent Loss\n",
    "\n",
    "### Goals\n",
    "- Look at various ranges of price for each token across time and fee collection\n",
    "- Want to understand how much fees need to be collected to cover the impermanent loss\n",
    "- Try to figure out the best ranges based on estimates of total price changes\n",
    "\n",
    "### Questions\n",
    "- Should the program be able to apply re-balance using geometric mean?\n",
    "- Should linear regression be used to help find the answers?  Or just look at 3D plots?\n",
    "- Can look at both compounding and just collecting fees\n",
    "\n",
    "\n",
    "### Notes\n",
    "- Don't bother trying to calculate the fees generated based on volume, just figure out what the fees need to be based on the \"final\" price of the tokens\n",
    "- Create \"high-side\" and \"low-side\" outs and figure out the fees required and and what the APR would need to average given a timeframe that it did stay in the range \n",
    "- Then can get fancy and do re-balances, etc.\n",
    "\n",
    "### Ideas\n",
    "- Set a future date and then a list of prices and a probability for hitting each one at the end of the period.  Then calculate the difference in impermanent loss assuming you are re-balancing and compounding\n",
    "\n"
   ]
  },
  {
   "cell_type": "code",
   "execution_count": null,
   "metadata": {},
   "outputs": [],
   "source": [
    "# Look at impermanent loss with a 10% increase \n",
    "import core.helper_classes as hc\n",
    "\n",
    "seed_usd = 10000\n",
    "btc = hc.Token(\"BTC\", 97500)\n",
    "usdc = hc.Token(\"USDC\", 1)\n",
    "\n",
    "lp = hc.LiquidityPool(btc, usdc)\n",
    "lp.setup_new_position(seed_usd, 10, 9)\n",
    "print(lp)\n",
    "btc.price *= 1.1\n",
    "lp.update_token_balances(30)\n",
    "print(lp)\n"
   ]
  },
  {
   "cell_type": "code",
   "execution_count": null,
   "metadata": {},
   "outputs": [],
   "source": [
    "# Look at IL with a ± 20% range chasing the price\n",
    "import core.helper_classes as hc\n",
    "\n",
    "seed_usd = 10000\n",
    "btc = hc.Token(\"BTC\", 97500)\n",
    "usdc = hc.Token(\"USDC\", 1)\n",
    "\n",
    "lp = hc.LiquidityPool(btc, usdc)\n",
    "lp.setup_new_position(seed_usd, 10, 10)\n",
    "price = [1, 1, -1, -1, -1, 1]\n",
    "for i in price:\n",
    "    btc.price *= (1 + i/10)\n",
    "    lp.update_token_balances(30)\n",
    "    lp.rebalance(10, 10)\n",
    "print(lp)"
   ]
  },
  {
   "cell_type": "code",
   "execution_count": null,
   "metadata": {},
   "outputs": [],
   "source": [
    "# Loop LP price and duration and check APR required\n",
    "import numpy as np\n",
    "import pandas as pd\n",
    "import core.helper_classes as hc\n",
    "import matplotlib.pyplot as plt\n",
    "\n",
    "seed_usd = 10000\n",
    "btc = hc.Token(\"BTC\", 97500)\n",
    "usdc = hc.Token(\"USDC\", 1)\n",
    "lp = hc.LiquidityPool(btc, usdc)\n",
    "lp.setup_new_position(seed_usd, 10, 10)\n",
    "aprs = []\n",
    "\n",
    "for price in np.arange(90000, 110000, 1000):\n",
    "    for duration in np.arange(0, 70, 7):\n",
    "        btc.price = price\n",
    "        lp.update_token_balances(duration)\n",
    "        data = [price, duration, lp.apr]\n",
    "        aprs.append(data)\n",
    "\n",
    "data = pd.DataFrame(aprs, columns=['price', 'duration', 'apr'])\n",
    "print(data)"
   ]
  },
  {
   "cell_type": "code",
   "execution_count": null,
   "metadata": {},
   "outputs": [],
   "source": [
    "# Testers\n",
    "import core.helper_classes as hc\n",
    "\n",
    "seed_usd = 10000\n",
    "btc = hc.Token(\"BTC\", 97500)\n",
    "usdc = hc.Token(\"USDC\", 1)\n",
    "eth = hc.Token(\"ETH\", 3600)\n",
    "\n",
    "lp = hc.LiquidityPool(btc, usdc)\n",
    "lp.setup_new_position(seed_usd, 10, 15)\n",
    "print(lp)\n",
    "lp.token_x.price = 110000\n",
    "lp.update_token_balances(30)\n",
    "print(lp)\n",
    "\n",
    "lp2 = hc.LiquidityPool(eth, btc)\n",
    "lp2.setup_new_position(seed_usd, 10, 10)\n",
    "print(lp2)\n",
    "lp2.token_x.price = 3800\n",
    "lp2.token_y.price = 110000\n",
    "lp2.update_token_balances(30)\n",
    "print(lp2)"
   ]
  },
  {
   "cell_type": "code",
   "execution_count": null,
   "metadata": {},
   "outputs": [],
   "source": [
    "# Test 2\n",
    "import core.helper_classes as hc\n",
    "\n",
    "seed_usd = 10000\n",
    "btc = hc.Token(\"BTC\", 97500)\n",
    "usdc = hc.Token(\"USDC\", 1)\n",
    "\n",
    "lp = hc.LiquidityPool(btc, usdc)\n",
    "lp.setup_new_position(seed_usd, 10, 10)\n",
    "print(lp)\n",
    "btc.price *= 1.05\n",
    "lp.update_token_balances(10)\n",
    "print(lp)\n",
    "lp.coumpound_fees(350)\n",
    "print(lp)"
   ]
  },
  {
   "cell_type": "markdown",
   "metadata": {},
   "source": [
    "Coingecko provides historical data using the public API with these restrictions:\n",
    "\n",
    "You may leave the interval as empty for automatic granularity:\n",
    "- 1 day from current time = 5-minutely data\n",
    "- 2 - 90 days from current time = hourly data\n",
    "- above 90 days from current time = daily data (00:00 UTC)"
   ]
  },
  {
   "cell_type": "code",
   "execution_count": null,
   "metadata": {},
   "outputs": [
    {
     "name": "stdout",
     "output_type": "stream",
     "text": [
      "Getting historical in_data for bitcoin\n",
      "Try #1\n",
      "Getting historical in_data for ethereum\n",
      "Try #1\n",
      "Getting historical in_data for solana\n",
      "Try #1\n"
     ]
    }
   ],
   "source": [
    "# Get historical pricing data\n",
    "# Keep the historical fetching below 90 days to get hourly based data\n",
    "import core.helper_classes as hc\n",
    "import pandas as pd\n",
    "from datetime import datetime as dt\n",
    "\n",
    "api_id = 'bitcoin'\n",
    "end = pd.Timestamp(dt.today())\n",
    "start = end - pd.DateOffset(days=80)  # Get previous years worth of data\n",
    "btc_data = pd.DataFrame(hc.get_historical_prices(api_id, start, end)).T\n",
    "\n",
    "api_id = 'ethereum'\n",
    "end = pd.Timestamp(dt.today())\n",
    "start = end - pd.DateOffset(days=80)  # Get previous years worth of data\n",
    "eth_data = pd.DataFrame(hc.get_historical_prices(api_id, start, end)).T\n",
    "\n",
    "api_id = 'solana'\n",
    "end = pd.Timestamp(dt.today())\n",
    "start = end - pd.DateOffset(days=80)  # Get previous years worth of data\n",
    "sol_data = pd.DataFrame(hc.get_historical_prices(api_id, start, end)).T"
   ]
  },
  {
   "cell_type": "code",
   "execution_count": 36,
   "metadata": {},
   "outputs": [],
   "source": [
    "# Use Weiner process to get future price predictions\n",
    "lookback_days = 30  # Decide how much historical data to use for prediciton input\n",
    "lookback_hours = lookback_days * 24\n",
    "\n",
    "data = btc_data.copy().tail(lookback_hours)\n",
    "data['gain'] = data['price'].pct_change()\n",
    "mean_gain = data['gain'].mean()\n",
    "std_gain = data['gain'].std()\n",
    "\n",
    "btc = hc.Token(\"BTC\", 106500)\n",
    "iterations = 10000\n",
    "predict_days = 15\n",
    "predict_hours = predict_days * 24\n",
    "b = hc.Brownian()\n",
    "predict = []\n",
    "for i in range(iterations):\n",
    "    x = b.stock_price(btc.price, mean_gain, std_gain, predict_hours, 1)\n",
    "    predict.append(x)\n",
    "df = pd.DataFrame(predict).T\n"
   ]
  },
  {
   "cell_type": "code",
   "execution_count": 37,
   "metadata": {},
   "outputs": [
    {
     "data": {
      "image/png": "[encoded data removed]",
      "text/plain": [
       "<Figure size 640x480 with 1 Axes>"
      ]
     },
     "metadata": {},
     "output_type": "display_data"
    }
   ],
   "source": [
    "# Look at price prediction over time\n",
    "import matplotlib.pyplot as plt\n",
    "\n",
    "mean_price = df.mean(axis=1)\n",
    "min_price = df.min(axis=1)\n",
    "max_price = df.max(axis=1)\n",
    "std_price = df.std(axis=1)\n",
    "\n",
    "plt.plot(df.index, mean_price, label='Mean')\n",
    "plt.plot(df.index, min_price, label='Min')\n",
    "plt.plot(df.index, max_price, label='Max')\n",
    "plt.legend()\n",
    "plt.show()"
   ]
  },
  {
   "cell_type": "code",
   "execution_count": 38,
   "metadata": {},
   "outputs": [
    {
     "data": {
      "text/plain": [
       "<Axes: >"
      ]
     },
     "execution_count": 38,
     "metadata": {},
     "output_type": "execute_result"
    },
    {
     "data": {
      "image/png": "[encoded data removed]",
      "text/plain": [
       "<Figure size 640x480 with 1 Axes>"
      ]
     },
     "metadata": {},
     "output_type": "display_data"
    }
   ],
   "source": [
    "# Look at distribution of final price\n",
    "end = df.iloc[-1]\n",
    "end.hist(bins=50)"
   ]
  },
  {
   "cell_type": "code",
   "execution_count": 39,
   "metadata": {},
   "outputs": [
    {
     "name": "stdout",
     "output_type": "stream",
     "text": [
      "50th percentile Impermanent Loss = $220.55\n",
      "50th percentile APR Required (compounded weekly) = 47.9%\n",
      "50th percentile APR Required (compounded daily) = 43.6%\n",
      "\n",
      "90th percentile Impermanent Loss = $280.41\n",
      "90th percentile APR Required (compounded weekly) = 59.4%\n",
      "90th percentile APR Required (compounded daily) = 52.9%\n",
      "\n",
      "95th percentile Impermanent Loss = $296.26\n",
      "95th percentile APR Required (compounded weekly) = 62.4%\n",
      "95th percentile APR Required (compounded daily) = 55.3%\n",
      "\n",
      "99th percentile Impermanent Loss = $329.83\n",
      "99th percentile APR Required (compounded weekly) = 68.5%\n",
      "99th percentile APR Required (compounded daily) = 60.1%\n",
      "\n"
     ]
    }
   ],
   "source": [
    "# Calculate IL for each price case and look at the 95th percentile value\n",
    "btc = hc.Token(\"BTC\", 106500)\n",
    "usdc = hc.Token(\"USDC\", 1)\n",
    "lp = hc.LiquidityPool(btc, usdc)\n",
    "seed_usd = 10000\n",
    "lp.setup_new_position(seed_usd, 7, 7)\n",
    "il = []\n",
    "for idx, val in end.items():\n",
    "    btc.price = val\n",
    "    lp.update_token_balances(predict_days)\n",
    "    il.append(lp.impermanent_loss)\n",
    "result = pd.Series(il)\n",
    "for pct in [50, 90, 95, 99]:\n",
    "    print(f\"{pct}th percentile Impermanent Loss = ${result.quantile(pct/100):.2f}\")\n",
    "    apy = result.quantile(pct/100) / seed_usd * 100 * (365 / predict_days)\n",
    "    # compound once per week\n",
    "    compound_period = int(predict_days / 7)\n",
    "    apr = hc.apy_to_apr(apy, compound_period)\n",
    "    print(f\"{pct}th percentile APR Required (compounded weekly) = {apr:.1f}%\")\n",
    "    apr_day = hc.apy_to_apr(apy, predict_days)\n",
    "    print(f\"{pct}th percentile APR Required (compounded daily) = {apr_day:.1f}%\\n\")"
   ]
  },
  {
   "cell_type": "markdown",
   "metadata": {},
   "source": [
    "## Other Thoughts\n",
    "\n",
    "* Look at re-balancing vs not given a certain APR\n",
    "* Can estimate the liquidity by looking at the average APR over as long a period as possible and distributing that across the liquidity\n",
    "* best way to do this is build a sub-graph, but there should be a reasonable way to estimate it.  The point is just to look at re-balance vs not.  Both geometric and chasing."
   ]
  },
  {
   "cell_type": "code",
   "execution_count": null,
   "metadata": {},
   "outputs": [],
   "source": [
    "import core.helper_classes as hc\n",
    "import unimath as um\n",
    "# cbBTC/USDC Farm Statistics on Aerodrome\n",
    "tvl_total = 9160644\n",
    "tvl_active = 7418151\n",
    "tvl_rewarded = 433085\n",
    "weekly_rewards = 436271\n",
    "pct_rewarded = tvl_rewarded / tvl_active\n",
    "fee_tier = 0.005\n",
    "tick_spacing = 100  # This represents a 1% change per tick so:\n",
    "pct_per_tick = tick_spacing / 100\n",
    "# Concentrated APRs (Can use as a good estimate)  \n",
    "# TODO: Eventually can pull this from the blockchain\n",
    "two_ticks = 2293\n",
    "four_ticks = 1146\n",
    "six_ticks = 764\n",
    "twelve_ticks = 382\n",
    "twenty_ticks = 229\n",
    "# I now know the percentatges, but want to figure this over the weekly reward amount for a better average\n",
    "# Actually, I can use the weekly rewards over the tvl_rewarded and find the APR per tick and then divide that based on the number of ticks\n",
    "apr_per_tick = weekly_rewards / tvl_rewarded * 52\n",
    "# So all I really need is the rewarded tvl, weekly rewards, and the percent per tick (from tick spacing)\n"
   ]
  },
  {
   "cell_type": "code",
   "execution_count": 9,
   "metadata": {},
   "outputs": [
    {
     "name": "stdout",
     "output_type": "stream",
     "text": [
      "Average APR per tick: 5238.25%\n"
     ]
    }
   ],
   "source": [
    "# Simplifying the Above\n",
    "# cbBTC/USDC Farm stats on Aerodrome\n",
    "weekly_rewards = 436271\n",
    "tvl_rewarded = 433085\n",
    "apr_per_tick = weekly_rewards / tvl_rewarded * 52 * 100\n",
    "print(f'Average APR per tick: {apr_per_tick:.2f}%')"
   ]
  },
  {
   "cell_type": "code",
   "execution_count": null,
   "metadata": {},
   "outputs": [
    {
     "name": "stdout",
     "output_type": "stream",
     "text": [
      "BTC: 0.047462 ($4983.53)| USDC: 5010.706638 ($5010.71)\n",
      "LP Value: $9994.24\n",
      "Current Price: 105000.000000 in USDC/BTC\n",
      "Ticks (low, current, high) 114921, 115622, 116321\n",
      "Range: 97882.732431 ~ 112591.154388\n",
      "Hold Value: $9994.24\n",
      "Impermanent Loss: $0.00\n",
      "Fee APR required to offset IL: 0.0%\n",
      "Fees Accrued: $0.00\n",
      "Total Fees: $0.00\n",
      "\n",
      "BTC: 0.092910 ($9291.03)| USDC: 1717.554618 ($1717.55)\n",
      "LP Value: $11008.59\n",
      "Current Price: 100000.000000 in USDC/BTC\n",
      "Ticks (low, current, high) 114921, 115135, 116321\n",
      "Range: 97882.732431 ~ 112591.154388\n",
      "Hold Value: $9518.32\n",
      "Impermanent Loss: $-1490.27\n",
      "Fee APR required to offset IL: 0.0%\n",
      "Fees Accrued: $0.00\n",
      "Total Fees: $717.57\n",
      "\n"
     ]
    }
   ],
   "source": [
    "import core.helper_classes as hc\n",
    "# Apply to LP\n",
    "btc = hc.Token(\"BTC\", 105000)\n",
    "usdc = hc.Token(\"USDC\", 1)\n",
    "lp = hc.LiquidityPool(btc, usdc)\n",
    "seed_usd = 10000\n",
    "fee_per_day_per_tick = apr_per_tick / 100 / 365 * seed_usd\n",
    "low_range = 7\n",
    "high_range = 7\n",
    "lp.setup_new_position(seed_usd, low_range, high_range)\n",
    "print(lp)\n",
    "fee_per_day = fee_per_day_per_tick / (low_range + high_range)\n",
    "btc.price = 100000\n",
    "lp.fees_accrued += fee_per_day * 7\n",
    "lp.coumpound_fees_accured()\n",
    "lp.update_token_balances(7)\n",
    "\n",
    "print(lp)"
   ]
  }
 ],
 "metadata": {
  "kernelspec": {
   "display_name": ".venv",
   "language": "python",
   "name": "python3"
  },
  "language_info": {
   "codemirror_mode": {
    "name": "ipython",
    "version": 3
   },
   "file_extension": ".py",
   "mimetype": "text/x-python",
   "name": "python",
   "nbconvert_exporter": "python",
   "pygments_lexer": "ipython3",
   "version": "3.12.5"
  }
 },
 "nbformat": 4,
 "nbformat_minor": 2
}
