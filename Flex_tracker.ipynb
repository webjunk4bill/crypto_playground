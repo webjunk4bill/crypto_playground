{
 "cells": [
  {
   "cell_type": "markdown",
   "metadata": {},
   "source": [
    "# Track Flex Rewards"
   ]
  },
  {
   "cell_type": "code",
   "execution_count": 1,
   "metadata": {},
   "outputs": [],
   "source": [
    "import core.transaction_class as tc\n",
    "import private\n",
    "import pandas as pd\n",
    "\n",
    "# start_block = 26652450\n",
    "start_block = 29319576 + 1\n",
    "\n",
    "x = tc.Transactions(private.wal_flex)\n",
    "y = tc.Transactions(private.wal_lp)\n",
    "tx_x = x.fetch_transactions(start_block)\n",
    "tx_y = y.fetch_transactions(start_block)"
   ]
  },
  {
   "cell_type": "code",
   "execution_count": 2,
   "metadata": {},
   "outputs": [
    {
     "data": {
      "application/vnd.microsoft.datawrangler.viewer.v0+json": {
       "columns": [
        {
         "name": "('Recorded', 'tokenSymbol')",
         "rawType": "object",
         "type": "string"
        },
        {
         "name": "amount",
         "rawType": "float64",
         "type": "float"
        }
       ],
       "ref": "17491657-8dfe-40b8-ab1e-e2f3c2f61710",
       "rows": [
        [
         "(False, 'USDC')",
         "7.929997"
        ]
       ],
       "shape": {
        "columns": 1,
        "rows": 1
       }
      },
      "text/html": [
       "<div>\n",
       "<style scoped>\n",
       "    .dataframe tbody tr th:only-of-type {\n",
       "        vertical-align: middle;\n",
       "    }\n",
       "\n",
       "    .dataframe tbody tr th {\n",
       "        vertical-align: top;\n",
       "    }\n",
       "\n",
       "    .dataframe thead th {\n",
       "        text-align: right;\n",
       "    }\n",
       "</style>\n",
       "<table border=\"1\" class=\"dataframe\">\n",
       "  <thead>\n",
       "    <tr style=\"text-align: right;\">\n",
       "      <th></th>\n",
       "      <th></th>\n",
       "      <th>amount</th>\n",
       "    </tr>\n",
       "    <tr>\n",
       "      <th>Recorded</th>\n",
       "      <th>tokenSymbol</th>\n",
       "      <th></th>\n",
       "    </tr>\n",
       "  </thead>\n",
       "  <tbody>\n",
       "    <tr>\n",
       "      <th>False</th>\n",
       "      <th>USDC</th>\n",
       "      <td>7.929997</td>\n",
       "    </tr>\n",
       "  </tbody>\n",
       "</table>\n",
       "</div>"
      ],
      "text/plain": [
       "                        amount\n",
       "Recorded tokenSymbol          \n",
       "False    USDC         7.929997"
      ]
     },
     "execution_count": 2,
     "metadata": {},
     "output_type": "execute_result"
    }
   ],
   "source": [
    "df_x = x.process_token_transfers(tx_x, private.flex_contract)\n",
    "df_y = y.process_token_transfers(tx_y, private.flex_contract)\n",
    "df = pd.concat([df_x, df_y])\n",
    "df['timeStamp'] = pd.to_datetime(df['timeStamp'])\n",
    "df = df.set_index('timeStamp')\n",
    "df.sort_index(inplace=True)\n",
    "df.pivot_table(index=['Recorded', 'tokenSymbol'], values='amount', aggfunc='sum')"
   ]
  },
  {
   "cell_type": "code",
   "execution_count": 3,
   "metadata": {},
   "outputs": [
    {
     "data": {
      "application/vnd.microsoft.datawrangler.viewer.v0+json": {
       "columns": [
        {
         "name": "('Recorded', 'tokenSymbol')",
         "rawType": "object",
         "type": "string"
        },
        {
         "name": "amount",
         "rawType": "float64",
         "type": "float"
        }
       ],
       "conversionMethod": "pd.DataFrame",
       "ref": "781e3760-565d-497b-b12b-ab1bc557063a",
       "rows": [
        [
         "(True, 'USDC')",
         "2065.972836"
        ]
       ],
       "shape": {
        "columns": 1,
        "rows": 1
       }
      },
      "text/html": [
       "<div>\n",
       "<style scoped>\n",
       "    .dataframe tbody tr th:only-of-type {\n",
       "        vertical-align: middle;\n",
       "    }\n",
       "\n",
       "    .dataframe tbody tr th {\n",
       "        vertical-align: top;\n",
       "    }\n",
       "\n",
       "    .dataframe thead th {\n",
       "        text-align: right;\n",
       "    }\n",
       "</style>\n",
       "<table border=\"1\" class=\"dataframe\">\n",
       "  <thead>\n",
       "    <tr style=\"text-align: right;\">\n",
       "      <th></th>\n",
       "      <th></th>\n",
       "      <th>amount</th>\n",
       "    </tr>\n",
       "    <tr>\n",
       "      <th>Recorded</th>\n",
       "      <th>tokenSymbol</th>\n",
       "      <th></th>\n",
       "    </tr>\n",
       "  </thead>\n",
       "  <tbody>\n",
       "    <tr>\n",
       "      <th>True</th>\n",
       "      <th>USDC</th>\n",
       "      <td>2065.972836</td>\n",
       "    </tr>\n",
       "  </tbody>\n",
       "</table>\n",
       "</div>"
      ],
      "text/plain": [
       "                           amount\n",
       "Recorded tokenSymbol             \n",
       "True     USDC         2065.972836"
      ]
     },
     "execution_count": 3,
     "metadata": {},
     "output_type": "execute_result"
    }
   ],
   "source": [
    "df.loc[:, \"Recorded\"] = True\n",
    "df.pivot_table(index=['Recorded', 'tokenSymbol'], values='amount', aggfunc='sum')"
   ]
  },
  {
   "cell_type": "code",
   "execution_count": 4,
   "metadata": {},
   "outputs": [
    {
     "name": "stdout",
     "output_type": "stream",
     "text": [
      "                         amount\n",
      "Recorded tokenSymbol           \n",
      "True     USDC         3371.1344\n"
     ]
    }
   ],
   "source": [
    "# check to see if flex_rewards.csv exists.  If so, open it and append df and rewrite\n",
    "# if not, just write df\n",
    "import os\n",
    "if os.path.exists('outputs/flex_rewards.csv'):\n",
    "    df_old = pd.read_csv('outputs/flex_rewards.csv', parse_dates=['timeStamp'])\n",
    "    # Set index to timeStamp\n",
    "    df_old = df_old.set_index('timeStamp')\n",
    "    df_old = pd.concat([df_old, df])\n",
    "    print(df_old.pivot_table(index=['Recorded', 'tokenSymbol'], values='amount', aggfunc='sum'))\n",
    "    df_old.sort_index(inplace=True)\n",
    "    df_old.to_csv('outputs/flex_rewards.csv')\n",
    "else:\n",
    "    df.to_csv('outputs/flex_rewards.csv')"
   ]
  }
 ],
 "metadata": {
  "kernelspec": {
   "display_name": "base",
   "language": "python",
   "name": "python3"
  },
  "language_info": {
   "codemirror_mode": {
    "name": "ipython",
    "version": 3
   },
   "file_extension": ".py",
   "mimetype": "text/x-python",
   "name": "python",
   "nbconvert_exporter": "python",
   "pygments_lexer": "ipython3",
   "version": "3.12.9"
  }
 },
 "nbformat": 4,
 "nbformat_minor": 2
}
